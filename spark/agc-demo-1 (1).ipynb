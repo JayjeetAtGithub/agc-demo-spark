{
 "cells": [
  {
   "cell_type": "markdown",
   "id": "c8a6635a",
   "metadata": {},
   "source": [
    "# Lakehousing of HEP data using Apache Iceberg\n",
    "\n",
    "Jayjeet Chakraborty, University of California, Santa Cruz\n",
    "\n",
    "\n",
    "## Features of Iceberg:\n",
    "\n",
    "* Supports transactions\n",
    "* Hidden Partitioning\n",
    "* Schema Evolution\n",
    "* Time Travel and Rollbacks\n",
    "* Expressive SQL\n",
    "* Views"
   ]
  },
  {
   "cell_type": "markdown",
   "id": "215dcdca",
   "metadata": {},
   "source": [
    "## Adding Iceberg to Spark"
   ]
  },
  {
   "cell_type": "markdown",
   "id": "2d672d2a",
   "metadata": {},
   "source": [
    "The Iceberg JAR file has to be copied to the Spark installation's JAR directory."
   ]
  },
  {
   "cell_type": "code",
   "execution_count": 1,
   "id": "7cc88993",
   "metadata": {},
   "outputs": [
    {
     "name": "stdout",
     "output_type": "stream",
     "text": [
      "iceberg-spark-runtime-3.3_2.12-1.1.0.jar\r\n"
     ]
    }
   ],
   "source": [
    "!ls /opt/spark/jars | grep \"iceberg\""
   ]
  },
  {
   "cell_type": "markdown",
   "id": "31231497",
   "metadata": {},
   "source": [
    "We need to add some configurations options for Spark to pickup Iceberg."
   ]
  },
  {
   "cell_type": "code",
   "execution_count": 2,
   "id": "829d0def",
   "metadata": {
    "scrolled": true
   },
   "outputs": [
    {
     "name": "stdout",
     "output_type": "stream",
     "text": [
      "spark.sql.extensions                   org.apache.iceberg.spark.extensions.IcebergSparkSessionExtensions\r\n",
      "spark.sql.catalog.demo                 org.apache.iceberg.spark.SparkCatalog\r\n",
      "spark.sql.catalog.demo.warehouse       warehouse\r\n",
      "spark.sql.catalog.demo.type            hadoop\r\n",
      "spark.sql.defaultCatalog               demo\r\n",
      "spark.eventLog.enabled                 true\r\n",
      "spark.eventLog.dir                     /home/iceberg/spark-events\r\n",
      "spark.history.fs.logDirectory          /home/iceberg/spark-events\r\n",
      "spark.sql.catalogImplementation        in-memory\r\n"
     ]
    }
   ],
   "source": [
    "!cat /opt/spark/conf/spark-defaults.conf"
   ]
  },
  {
   "cell_type": "code",
   "execution_count": 3,
   "id": "9767e220",
   "metadata": {},
   "outputs": [
    {
     "data": {
      "text/html": [
       "\n",
       "            <div>\n",
       "                <p><b>SparkSession - in-memory</b></p>\n",
       "                \n",
       "        <div>\n",
       "            <p><b>SparkContext</b></p>\n",
       "\n",
       "            <p><a href=\"http://5db4bbc7cc00:4041\">Spark UI</a></p>\n",
       "\n",
       "            <dl>\n",
       "              <dt>Version</dt>\n",
       "                <dd><code>v3.3.1</code></dd>\n",
       "              <dt>Master</dt>\n",
       "                <dd><code>local[*]</code></dd>\n",
       "              <dt>AppName</dt>\n",
       "                <dd><code>PySparkShell</code></dd>\n",
       "            </dl>\n",
       "        </div>\n",
       "        \n",
       "            </div>\n",
       "        "
      ],
      "text/plain": [
       "<pyspark.sql.session.SparkSession at 0x7ffa4a005ee0>"
      ]
     },
     "execution_count": 3,
     "metadata": {},
     "output_type": "execute_result"
    }
   ],
   "source": [
    "spark"
   ]
  },
  {
   "cell_type": "markdown",
   "id": "154c20a9",
   "metadata": {},
   "source": [
    "## Creating an Iceberg table from a Parquet file"
   ]
  },
  {
   "cell_type": "markdown",
   "id": "d2f1a8e6",
   "metadata": {},
   "source": [
    "We read NanoEvents data out of our Parquet file into a Spark Dataframe"
   ]
  },
  {
   "cell_type": "code",
   "execution_count": 4,
   "id": "7b23d635",
   "metadata": {},
   "outputs": [],
   "source": [
    "df = spark.read.parquet(\"dataset\")"
   ]
  },
  {
   "cell_type": "markdown",
   "id": "6f131bde",
   "metadata": {},
   "source": [
    "We now create an Iceberg table out of this dataframe partitioned by the `event` field."
   ]
  },
  {
   "cell_type": "code",
   "execution_count": 5,
   "id": "3d440222",
   "metadata": {
    "scrolled": true
   },
   "outputs": [
    {
     "name": "stdout",
     "output_type": "stream",
     "text": [
      "23/02/22 03:03:15 WARN SparkSession: Using an existing Spark session; only runtime SQL configurations will take effect.\n"
     ]
    },
    {
     "data": {
      "text/html": [
       "<table>\n",
       "    <tr>\n",
       "    </tr>\n",
       "</table>"
      ],
      "text/plain": [
       "++\n",
       "||\n",
       "++\n",
       "++"
      ]
     },
     "execution_count": 5,
     "metadata": {},
     "output_type": "execute_result"
    }
   ],
   "source": [
    "%%sql\n",
    "\n",
    "DROP TABLE IF EXISTS hep;"
   ]
  },
  {
   "cell_type": "markdown",
   "id": "8531de16",
   "metadata": {},
   "source": [
    "For the purpose of the demo, we just use a subset of the data."
   ]
  },
  {
   "cell_type": "code",
   "execution_count": 6,
   "id": "6ad8360f",
   "metadata": {},
   "outputs": [
    {
     "name": "stdout",
     "output_type": "stream",
     "text": [
      "64\r\n"
     ]
    }
   ],
   "source": [
    "!ls dataset/ | wc -l"
   ]
  },
  {
   "cell_type": "code",
   "execution_count": 8,
   "id": "1f405a03",
   "metadata": {},
   "outputs": [
    {
     "name": "stdout",
     "output_type": "stream",
     "text": [
      "query1.sql  query3.sql\tquery5.sql    query6-2.sql  query8.sql\r\n",
      "query2.sql  query4.sql\tquery6-1.sql  query7.sql\r\n"
     ]
    }
   ],
   "source": [
    "!ls queries/"
   ]
  },
  {
   "cell_type": "code",
   "execution_count": 9,
   "id": "deed4074",
   "metadata": {},
   "outputs": [
    {
     "data": {
      "text/plain": [
       "DataFrame[run: int, luminosityBlock: bigint, event: bigint, MET: struct<pt:float,phi:float,sumet:float,significance:float,CovXX:float,CovXY:float,CovYY:float>, HLT: struct<IsoMu24_eta2p1:boolean,IsoMu24:boolean,IsoMu17_eta2p1_LooseIsoPFTau20:boolean>, PV: struct<npvs:int,x:float,y:float,z:float>, Muon: array<struct<pt:float,eta:float,phi:float,mass:float,charge:int,pfRelIso03_all:float,pfRelIso04_all:float,tightId:boolean,softId:boolean,dxy:float,dxyErr:float,dz:float,dzErr:float,jetIdx:int,genPartIdx:int>>, Electron: array<struct<pt:float,eta:float,phi:float,mass:float,charge:int,pfRelIso03_all:float,dxy:float,dxyErr:float,dz:float,dzErr:float,cutBasedId:boolean,pfId:boolean,jetIdx:int,genPartIdx:int>>, Photon: array<struct<pt:float,eta:float,phi:float,mass:float,charge:int,pfRelIso03_all:float,jetIdx:int,genPartIdx:int>>, Jet: array<struct<pt:float,eta:float,phi:float,mass:float,puId:boolean,btag:float>>, Tau: array<struct<pt:float,eta:float,phi:float,mass:float,charge:int,decayMode:int,relIso_all:float,jetIdx:int,genPartIdx:int,idDecayMode:boolean,idIsoRaw:float,idIsoVLoose:boolean,idIsoLoose:boolean,idIsoMedium:boolean,idIsoTight:boolean,idAntiEleLoose:boolean,idAntiEleMedium:boolean,idAntiEleTight:boolean,idAntiMuLoose:boolean,idAntiMuMedium:boolean,idAntiMuTight:boolean>>]"
      ]
     },
     "execution_count": 9,
     "metadata": {},
     "output_type": "execute_result"
    }
   ],
   "source": [
    "df"
   ]
  },
  {
   "cell_type": "code",
   "execution_count": 10,
   "id": "e80b53b4",
   "metadata": {
    "scrolled": true
   },
   "outputs": [
    {
     "name": "stderr",
     "output_type": "stream",
     "text": [
      "                                                                                \r"
     ]
    }
   ],
   "source": [
    "df.writeTo(\"hep\").using(\"iceberg\").create()"
   ]
  },
  {
   "cell_type": "markdown",
   "id": "e2ec5ea4",
   "metadata": {},
   "source": [
    "## Data, Metadata, WAL, and Snapshots"
   ]
  },
  {
   "cell_type": "markdown",
   "id": "b9c5c07c",
   "metadata": {},
   "source": [
    "Data files"
   ]
  },
  {
   "cell_type": "code",
   "execution_count": 11,
   "id": "a6d40762",
   "metadata": {
    "scrolled": true
   },
   "outputs": [
    {
     "data": {
      "text/html": [
       "<table>\n",
       "    <tr>\n",
       "        <th>file_path</th>\n",
       "        <th>file_size_in_bytes</th>\n",
       "    </tr>\n",
       "    <tr>\n",
       "        <td>warehouse/hep/data/00000-1-6b83ef08-61a1-4bc8-ac43-14befbab349c-00001.parquet</td>\n",
       "        <td>307876</td>\n",
       "    </tr>\n",
       "    <tr>\n",
       "        <td>warehouse/hep/data/00001-2-152defff-4511-48d9-acbc-a4ae708a1724-00001.parquet</td>\n",
       "        <td>307876</td>\n",
       "    </tr>\n",
       "    <tr>\n",
       "        <td>warehouse/hep/data/00002-3-6c119db2-14b5-4789-a00b-4382f117d7e6-00001.parquet</td>\n",
       "        <td>307876</td>\n",
       "    </tr>\n",
       "    <tr>\n",
       "        <td>warehouse/hep/data/00003-4-6764422e-4c64-4cb1-97bf-bd43969ce749-00001.parquet</td>\n",
       "        <td>307876</td>\n",
       "    </tr>\n",
       "    <tr>\n",
       "        <td>warehouse/hep/data/00004-5-3b7e414b-77b1-422e-aeb1-5ba5d616325f-00001.parquet</td>\n",
       "        <td>307876</td>\n",
       "    </tr>\n",
       "    <tr>\n",
       "        <td>warehouse/hep/data/00005-6-0280a53c-b638-456d-a2c5-902206fe9440-00001.parquet</td>\n",
       "        <td>307876</td>\n",
       "    </tr>\n",
       "    <tr>\n",
       "        <td>warehouse/hep/data/00006-7-650d0b9d-ddc2-4100-954a-e13ab3862118-00001.parquet</td>\n",
       "        <td>307876</td>\n",
       "    </tr>\n",
       "    <tr>\n",
       "        <td>warehouse/hep/data/00007-8-079375c0-cedb-45fa-a311-78ede77e140e-00001.parquet</td>\n",
       "        <td>307876</td>\n",
       "    </tr>\n",
       "    <tr>\n",
       "        <td>warehouse/hep/data/00008-9-8c23170a-47b8-4fde-9249-c6a6f51a3895-00001.parquet</td>\n",
       "        <td>307876</td>\n",
       "    </tr>\n",
       "    <tr>\n",
       "        <td>warehouse/hep/data/00009-10-d0e9d398-43af-476f-999c-e065997e2b8b-00001.parquet</td>\n",
       "        <td>307876</td>\n",
       "    </tr>\n",
       "    <tr>\n",
       "        <td>warehouse/hep/data/00010-11-ebf2dba6-6f13-4b53-b81f-1e32004349f9-00001.parquet</td>\n",
       "        <td>307876</td>\n",
       "    </tr>\n",
       "    <tr>\n",
       "        <td>warehouse/hep/data/00011-12-8f74f81f-520e-4fc6-aa66-dc700a2f4554-00001.parquet</td>\n",
       "        <td>307876</td>\n",
       "    </tr>\n",
       "    <tr>\n",
       "        <td>warehouse/hep/data/00012-13-519d34d7-7fdc-49c5-92e8-87b717386a75-00001.parquet</td>\n",
       "        <td>307876</td>\n",
       "    </tr>\n",
       "    <tr>\n",
       "        <td>warehouse/hep/data/00013-14-6aed032b-b10f-462f-a40a-54e0e14b5628-00001.parquet</td>\n",
       "        <td>307876</td>\n",
       "    </tr>\n",
       "    <tr>\n",
       "        <td>warehouse/hep/data/00014-15-be11b8ce-a51d-4b30-b49f-26564ce1bacc-00001.parquet</td>\n",
       "        <td>307876</td>\n",
       "    </tr>\n",
       "    <tr>\n",
       "        <td>warehouse/hep/data/00015-16-1452e562-02ec-4cd4-b7c2-85b051c41d0c-00001.parquet</td>\n",
       "        <td>307876</td>\n",
       "    </tr>\n",
       "    <tr>\n",
       "        <td>warehouse/hep/data/00016-17-ae023e64-aa48-41b6-90c2-8eb5120ce163-00001.parquet</td>\n",
       "        <td>307876</td>\n",
       "    </tr>\n",
       "    <tr>\n",
       "        <td>warehouse/hep/data/00017-18-180744fe-1e64-4572-92ed-bb4c08fbd152-00001.parquet</td>\n",
       "        <td>307876</td>\n",
       "    </tr>\n",
       "    <tr>\n",
       "        <td>warehouse/hep/data/00018-19-ef8436c6-e1c3-4073-8373-1585770018fe-00001.parquet</td>\n",
       "        <td>307876</td>\n",
       "    </tr>\n",
       "    <tr>\n",
       "        <td>warehouse/hep/data/00019-20-c9a4e663-f127-46ac-806c-c2f0ef91714d-00001.parquet</td>\n",
       "        <td>307876</td>\n",
       "    </tr>\n",
       "    <tr>\n",
       "        <td>warehouse/hep/data/00020-21-faebd326-6dc3-48a6-b8b2-9cbd17b0c630-00001.parquet</td>\n",
       "        <td>307876</td>\n",
       "    </tr>\n",
       "    <tr>\n",
       "        <td>warehouse/hep/data/00021-22-ecc23808-4801-4452-8359-84d9a0b2c3f4-00001.parquet</td>\n",
       "        <td>307876</td>\n",
       "    </tr>\n",
       "    <tr>\n",
       "        <td>warehouse/hep/data/00022-23-f312d6d0-9c51-4843-8911-3a37e35e4d3e-00001.parquet</td>\n",
       "        <td>307876</td>\n",
       "    </tr>\n",
       "    <tr>\n",
       "        <td>warehouse/hep/data/00023-24-4431c56c-d1fb-4f8c-af59-bdf0bdb8ec0b-00001.parquet</td>\n",
       "        <td>307876</td>\n",
       "    </tr>\n",
       "    <tr>\n",
       "        <td>warehouse/hep/data/00024-25-73d272aa-88e4-49a4-8500-824c9c6c2432-00001.parquet</td>\n",
       "        <td>307876</td>\n",
       "    </tr>\n",
       "    <tr>\n",
       "        <td>warehouse/hep/data/00025-26-bdce2c86-8e9b-44c5-a49b-2cec6eef47fc-00001.parquet</td>\n",
       "        <td>307876</td>\n",
       "    </tr>\n",
       "    <tr>\n",
       "        <td>warehouse/hep/data/00026-27-9f9054dd-0a5e-40e6-bd47-230b34817c18-00001.parquet</td>\n",
       "        <td>307876</td>\n",
       "    </tr>\n",
       "    <tr>\n",
       "        <td>warehouse/hep/data/00027-28-7696eded-dc30-467d-8385-091f73dd4d42-00001.parquet</td>\n",
       "        <td>307876</td>\n",
       "    </tr>\n",
       "    <tr>\n",
       "        <td>warehouse/hep/data/00028-29-3048b280-a256-41ac-98d0-0f4f56abeb01-00001.parquet</td>\n",
       "        <td>307876</td>\n",
       "    </tr>\n",
       "    <tr>\n",
       "        <td>warehouse/hep/data/00029-30-e41e6737-be4f-40c6-8287-305ed8bc5a11-00001.parquet</td>\n",
       "        <td>307876</td>\n",
       "    </tr>\n",
       "    <tr>\n",
       "        <td>warehouse/hep/data/00030-31-2730df5b-aab7-4c5d-a56d-448bddf58fa9-00001.parquet</td>\n",
       "        <td>307876</td>\n",
       "    </tr>\n",
       "    <tr>\n",
       "        <td>warehouse/hep/data/00031-32-e5d1fc4f-8bd9-4216-b3a8-b0e345b4310d-00001.parquet</td>\n",
       "        <td>307876</td>\n",
       "    </tr>\n",
       "</table>"
      ],
      "text/plain": [
       "+--------------------------------------------------------------------------------+--------------------+\n",
       "|                                                                      file_path | file_size_in_bytes |\n",
       "+--------------------------------------------------------------------------------+--------------------+\n",
       "|  warehouse/hep/data/00000-1-6b83ef08-61a1-4bc8-ac43-14befbab349c-00001.parquet |             307876 |\n",
       "|  warehouse/hep/data/00001-2-152defff-4511-48d9-acbc-a4ae708a1724-00001.parquet |             307876 |\n",
       "|  warehouse/hep/data/00002-3-6c119db2-14b5-4789-a00b-4382f117d7e6-00001.parquet |             307876 |\n",
       "|  warehouse/hep/data/00003-4-6764422e-4c64-4cb1-97bf-bd43969ce749-00001.parquet |             307876 |\n",
       "|  warehouse/hep/data/00004-5-3b7e414b-77b1-422e-aeb1-5ba5d616325f-00001.parquet |             307876 |\n",
       "|  warehouse/hep/data/00005-6-0280a53c-b638-456d-a2c5-902206fe9440-00001.parquet |             307876 |\n",
       "|  warehouse/hep/data/00006-7-650d0b9d-ddc2-4100-954a-e13ab3862118-00001.parquet |             307876 |\n",
       "|  warehouse/hep/data/00007-8-079375c0-cedb-45fa-a311-78ede77e140e-00001.parquet |             307876 |\n",
       "|  warehouse/hep/data/00008-9-8c23170a-47b8-4fde-9249-c6a6f51a3895-00001.parquet |             307876 |\n",
       "| warehouse/hep/data/00009-10-d0e9d398-43af-476f-999c-e065997e2b8b-00001.parquet |             307876 |\n",
       "| warehouse/hep/data/00010-11-ebf2dba6-6f13-4b53-b81f-1e32004349f9-00001.parquet |             307876 |\n",
       "| warehouse/hep/data/00011-12-8f74f81f-520e-4fc6-aa66-dc700a2f4554-00001.parquet |             307876 |\n",
       "| warehouse/hep/data/00012-13-519d34d7-7fdc-49c5-92e8-87b717386a75-00001.parquet |             307876 |\n",
       "| warehouse/hep/data/00013-14-6aed032b-b10f-462f-a40a-54e0e14b5628-00001.parquet |             307876 |\n",
       "| warehouse/hep/data/00014-15-be11b8ce-a51d-4b30-b49f-26564ce1bacc-00001.parquet |             307876 |\n",
       "| warehouse/hep/data/00015-16-1452e562-02ec-4cd4-b7c2-85b051c41d0c-00001.parquet |             307876 |\n",
       "| warehouse/hep/data/00016-17-ae023e64-aa48-41b6-90c2-8eb5120ce163-00001.parquet |             307876 |\n",
       "| warehouse/hep/data/00017-18-180744fe-1e64-4572-92ed-bb4c08fbd152-00001.parquet |             307876 |\n",
       "| warehouse/hep/data/00018-19-ef8436c6-e1c3-4073-8373-1585770018fe-00001.parquet |             307876 |\n",
       "| warehouse/hep/data/00019-20-c9a4e663-f127-46ac-806c-c2f0ef91714d-00001.parquet |             307876 |\n",
       "| warehouse/hep/data/00020-21-faebd326-6dc3-48a6-b8b2-9cbd17b0c630-00001.parquet |             307876 |\n",
       "| warehouse/hep/data/00021-22-ecc23808-4801-4452-8359-84d9a0b2c3f4-00001.parquet |             307876 |\n",
       "| warehouse/hep/data/00022-23-f312d6d0-9c51-4843-8911-3a37e35e4d3e-00001.parquet |             307876 |\n",
       "| warehouse/hep/data/00023-24-4431c56c-d1fb-4f8c-af59-bdf0bdb8ec0b-00001.parquet |             307876 |\n",
       "| warehouse/hep/data/00024-25-73d272aa-88e4-49a4-8500-824c9c6c2432-00001.parquet |             307876 |\n",
       "| warehouse/hep/data/00025-26-bdce2c86-8e9b-44c5-a49b-2cec6eef47fc-00001.parquet |             307876 |\n",
       "| warehouse/hep/data/00026-27-9f9054dd-0a5e-40e6-bd47-230b34817c18-00001.parquet |             307876 |\n",
       "| warehouse/hep/data/00027-28-7696eded-dc30-467d-8385-091f73dd4d42-00001.parquet |             307876 |\n",
       "| warehouse/hep/data/00028-29-3048b280-a256-41ac-98d0-0f4f56abeb01-00001.parquet |             307876 |\n",
       "| warehouse/hep/data/00029-30-e41e6737-be4f-40c6-8287-305ed8bc5a11-00001.parquet |             307876 |\n",
       "| warehouse/hep/data/00030-31-2730df5b-aab7-4c5d-a56d-448bddf58fa9-00001.parquet |             307876 |\n",
       "| warehouse/hep/data/00031-32-e5d1fc4f-8bd9-4216-b3a8-b0e345b4310d-00001.parquet |             307876 |\n",
       "+--------------------------------------------------------------------------------+--------------------+"
      ]
     },
     "execution_count": 11,
     "metadata": {},
     "output_type": "execute_result"
    }
   ],
   "source": [
    "%%sql\n",
    "\n",
    "SELECT file_path, file_size_in_bytes FROM demo.hep.all_data_files;"
   ]
  },
  {
   "cell_type": "markdown",
   "id": "1ca543f1",
   "metadata": {},
   "source": [
    "Metadata files"
   ]
  },
  {
   "cell_type": "code",
   "execution_count": 12,
   "id": "4cf6741b",
   "metadata": {},
   "outputs": [
    {
     "data": {
      "text/html": [
       "<table>\n",
       "    <tr>\n",
       "        <th>content</th>\n",
       "        <th>path</th>\n",
       "        <th>length</th>\n",
       "        <th>partition_spec_id</th>\n",
       "        <th>added_snapshot_id</th>\n",
       "        <th>added_data_files_count</th>\n",
       "        <th>existing_data_files_count</th>\n",
       "        <th>deleted_data_files_count</th>\n",
       "        <th>added_delete_files_count</th>\n",
       "        <th>existing_delete_files_count</th>\n",
       "        <th>deleted_delete_files_count</th>\n",
       "        <th>partition_summaries</th>\n",
       "    </tr>\n",
       "    <tr>\n",
       "        <td>0</td>\n",
       "        <td>warehouse/hep/metadata/ad92e2fb-d43b-47a6-bf26-a4bfe5bd7be7-m0.avro</td>\n",
       "        <td>14048</td>\n",
       "        <td>0</td>\n",
       "        <td>6027879554434080617</td>\n",
       "        <td>32</td>\n",
       "        <td>0</td>\n",
       "        <td>0</td>\n",
       "        <td>0</td>\n",
       "        <td>0</td>\n",
       "        <td>0</td>\n",
       "        <td>[]</td>\n",
       "    </tr>\n",
       "</table>"
      ],
      "text/plain": [
       "+---------+---------------------------------------------------------------------+--------+-------------------+---------------------+------------------------+---------------------------+--------------------------+--------------------------+-----------------------------+----------------------------+---------------------+\n",
       "| content |                                                                path | length | partition_spec_id |   added_snapshot_id | added_data_files_count | existing_data_files_count | deleted_data_files_count | added_delete_files_count | existing_delete_files_count | deleted_delete_files_count | partition_summaries |\n",
       "+---------+---------------------------------------------------------------------+--------+-------------------+---------------------+------------------------+---------------------------+--------------------------+--------------------------+-----------------------------+----------------------------+---------------------+\n",
       "|       0 | warehouse/hep/metadata/ad92e2fb-d43b-47a6-bf26-a4bfe5bd7be7-m0.avro |  14048 |                 0 | 6027879554434080617 |                     32 |                         0 |                        0 |                        0 |                           0 |                          0 |                  [] |\n",
       "+---------+---------------------------------------------------------------------+--------+-------------------+---------------------+------------------------+---------------------------+--------------------------+--------------------------+-----------------------------+----------------------------+---------------------+"
      ]
     },
     "execution_count": 12,
     "metadata": {},
     "output_type": "execute_result"
    }
   ],
   "source": [
    "%%sql\n",
    "\n",
    "SELECT * FROM demo.hep.manifests;"
   ]
  },
  {
   "cell_type": "markdown",
   "id": "5f98ad8f",
   "metadata": {},
   "source": [
    "Write-Ahead Log files that enables transactions"
   ]
  },
  {
   "cell_type": "code",
   "execution_count": 13,
   "id": "5f54a01b",
   "metadata": {},
   "outputs": [
    {
     "data": {
      "text/html": [
       "<table>\n",
       "    <tr>\n",
       "        <th>timestamp</th>\n",
       "        <th>file</th>\n",
       "        <th>latest_snapshot_id</th>\n",
       "        <th>latest_schema_id</th>\n",
       "        <th>latest_sequence_number</th>\n",
       "    </tr>\n",
       "    <tr>\n",
       "        <td>2023-02-22 03:03:44.397000</td>\n",
       "        <td>warehouse/hep/metadata/v1.metadata.json</td>\n",
       "        <td>6027879554434080617</td>\n",
       "        <td>0</td>\n",
       "        <td>0</td>\n",
       "    </tr>\n",
       "</table>"
      ],
      "text/plain": [
       "+----------------------------+-----------------------------------------+---------------------+------------------+------------------------+\n",
       "|                  timestamp |                                    file |  latest_snapshot_id | latest_schema_id | latest_sequence_number |\n",
       "+----------------------------+-----------------------------------------+---------------------+------------------+------------------------+\n",
       "| 2023-02-22 03:03:44.397000 | warehouse/hep/metadata/v1.metadata.json | 6027879554434080617 |                0 |                      0 |\n",
       "+----------------------------+-----------------------------------------+---------------------+------------------+------------------------+"
      ]
     },
     "execution_count": 13,
     "metadata": {},
     "output_type": "execute_result"
    }
   ],
   "source": [
    "%%sql\n",
    "\n",
    "SELECT * from demo.hep.metadata_log_entries;"
   ]
  },
  {
   "cell_type": "markdown",
   "id": "0664bd55",
   "metadata": {},
   "source": [
    "Snapshot files"
   ]
  },
  {
   "cell_type": "code",
   "execution_count": 14,
   "id": "81f5a7e8",
   "metadata": {
    "scrolled": true
   },
   "outputs": [
    {
     "data": {
      "text/html": [
       "<table>\n",
       "    <tr>\n",
       "        <th>snapshot_id</th>\n",
       "        <th>manifest_list</th>\n",
       "    </tr>\n",
       "    <tr>\n",
       "        <td>6027879554434080617</td>\n",
       "        <td>warehouse/hep/metadata/snap-6027879554434080617-1-ad92e2fb-d43b-47a6-bf26-a4bfe5bd7be7.avro</td>\n",
       "    </tr>\n",
       "</table>"
      ],
      "text/plain": [
       "+---------------------+---------------------------------------------------------------------------------------------+\n",
       "|         snapshot_id |                                                                               manifest_list |\n",
       "+---------------------+---------------------------------------------------------------------------------------------+\n",
       "| 6027879554434080617 | warehouse/hep/metadata/snap-6027879554434080617-1-ad92e2fb-d43b-47a6-bf26-a4bfe5bd7be7.avro |\n",
       "+---------------------+---------------------------------------------------------------------------------------------+"
      ]
     },
     "execution_count": 14,
     "metadata": {},
     "output_type": "execute_result"
    }
   ],
   "source": [
    "%%sql\n",
    "\n",
    "SELECT snapshot_id, manifest_list FROM demo.hep.snapshots"
   ]
  },
  {
   "cell_type": "markdown",
   "id": "ccc8c16d",
   "metadata": {},
   "source": [
    "## Running ADL benchmark queries on Iceberg\n",
    "\n",
    "https://github.com/iris-hep/adl-benchmarks-index/\n",
    "\n",
    "https://arxiv.org/pdf/2104.12615.pdf"
   ]
  },
  {
   "cell_type": "code",
   "execution_count": 19,
   "id": "53611e1b",
   "metadata": {
    "scrolled": true
   },
   "outputs": [
    {
     "name": "stdout",
     "output_type": "stream",
     "text": [
      "[Row(x=10, y=22144), Row(x=30, y=27328), Row(x=50, y=12544), Row(x=70, y=1600), Row(x=90, y=64), Row(x=110, y=256), Row(x=130, y=64)]\n",
      "Query 1:  0.1007835865020752\n",
      "[Row(x=Decimal('15.225'), y=6144), Row(x=Decimal('15.675'), y=4864), Row(x=Decimal('16.125'), y=3520), Row(x=Decimal('16.575'), y=4224), Row(x=Decimal('17.025'), y=3776), Row(x=Decimal('17.475'), y=3328), Row(x=Decimal('17.925'), y=2496), Row(x=Decimal('18.375'), y=3776), Row(x=Decimal('18.825'), y=2816), Row(x=Decimal('19.275'), y=2560), Row(x=Decimal('19.725'), y=1920), Row(x=Decimal('20.175'), y=1600), Row(x=Decimal('20.625'), y=1728), Row(x=Decimal('21.075'), y=2240), Row(x=Decimal('21.525'), y=1792), Row(x=Decimal('21.975'), y=1216), Row(x=Decimal('22.425'), y=1664), Row(x=Decimal('22.875'), y=1152), Row(x=Decimal('23.325'), y=1728), Row(x=Decimal('23.775'), y=1216), Row(x=Decimal('24.225'), y=1024), Row(x=Decimal('24.675'), y=1280), Row(x=Decimal('25.125'), y=1472), Row(x=Decimal('25.575'), y=1088), Row(x=Decimal('26.025'), y=768), Row(x=Decimal('26.475'), y=1408), Row(x=Decimal('26.925'), y=832), Row(x=Decimal('27.375'), y=1216), Row(x=Decimal('27.825'), y=1024), Row(x=Decimal('28.275'), y=896), Row(x=Decimal('28.725'), y=768), Row(x=Decimal('29.175'), y=640), Row(x=Decimal('29.625'), y=576), Row(x=Decimal('30.075'), y=1024), Row(x=Decimal('30.525'), y=960), Row(x=Decimal('30.975'), y=832), Row(x=Decimal('31.425'), y=1024), Row(x=Decimal('31.875'), y=768), Row(x=Decimal('32.325'), y=576), Row(x=Decimal('32.775'), y=576), Row(x=Decimal('33.225'), y=960), Row(x=Decimal('33.675'), y=1088), Row(x=Decimal('34.125'), y=384), Row(x=Decimal('34.575'), y=128), Row(x=Decimal('35.025'), y=448), Row(x=Decimal('35.475'), y=384), Row(x=Decimal('35.925'), y=320), Row(x=Decimal('36.375'), y=512), Row(x=Decimal('36.825'), y=768), Row(x=Decimal('37.275'), y=448), Row(x=Decimal('37.725'), y=512), Row(x=Decimal('38.175'), y=576), Row(x=Decimal('38.625'), y=576), Row(x=Decimal('39.075'), y=384), Row(x=Decimal('39.525'), y=832), Row(x=Decimal('39.975'), y=384), Row(x=Decimal('40.425'), y=576), Row(x=Decimal('40.875'), y=768), Row(x=Decimal('41.325'), y=448), Row(x=Decimal('41.775'), y=128), Row(x=Decimal('42.225'), y=384), Row(x=Decimal('42.675'), y=384), Row(x=Decimal('43.125'), y=640), Row(x=Decimal('43.575'), y=192), Row(x=Decimal('44.025'), y=704), Row(x=Decimal('44.475'), y=192), Row(x=Decimal('44.925'), y=384), Row(x=Decimal('45.375'), y=320), Row(x=Decimal('45.825'), y=320), Row(x=Decimal('46.275'), y=384), Row(x=Decimal('46.725'), y=384), Row(x=Decimal('47.175'), y=448), Row(x=Decimal('47.625'), y=192), Row(x=Decimal('48.075'), y=128), Row(x=Decimal('48.525'), y=320), Row(x=Decimal('48.975'), y=576), Row(x=Decimal('49.425'), y=192), Row(x=Decimal('49.875'), y=192), Row(x=Decimal('50.325'), y=448), Row(x=Decimal('50.775'), y=192), Row(x=Decimal('51.225'), y=512), Row(x=Decimal('51.675'), y=448), Row(x=Decimal('52.125'), y=320), Row(x=Decimal('52.575'), y=320), Row(x=Decimal('53.025'), y=256), Row(x=Decimal('53.475'), y=320), Row(x=Decimal('53.925'), y=256), Row(x=Decimal('54.375'), y=384), Row(x=Decimal('54.825'), y=320), Row(x=Decimal('55.275'), y=64), Row(x=Decimal('55.725'), y=256), Row(x=Decimal('56.175'), y=192), Row(x=Decimal('56.625'), y=128), Row(x=Decimal('57.075'), y=384), Row(x=Decimal('57.525'), y=256), Row(x=Decimal('57.975'), y=256), Row(x=Decimal('58.425'), y=64), Row(x=Decimal('58.875'), y=192), Row(x=Decimal('59.325'), y=128), Row(x=Decimal('59.775'), y=256), Row(x=Decimal('60.225'), y=13312)]\n",
      "Query 2:  0.1575932502746582\n",
      "[Row(x=Decimal('15.225'), y=1536), Row(x=Decimal('15.675'), y=1216), Row(x=Decimal('16.125'), y=1280), Row(x=Decimal('16.575'), y=1280), Row(x=Decimal('17.025'), y=896), Row(x=Decimal('17.475'), y=1216), Row(x=Decimal('17.925'), y=384), Row(x=Decimal('18.375'), y=1216), Row(x=Decimal('18.825'), y=704), Row(x=Decimal('19.275'), y=1088), Row(x=Decimal('19.725'), y=704), Row(x=Decimal('20.175'), y=704), Row(x=Decimal('20.625'), y=576), Row(x=Decimal('21.075'), y=320), Row(x=Decimal('21.525'), y=640), Row(x=Decimal('21.975'), y=704), Row(x=Decimal('22.425'), y=768), Row(x=Decimal('22.875'), y=256), Row(x=Decimal('23.325'), y=448), Row(x=Decimal('23.775'), y=384), Row(x=Decimal('24.225'), y=384), Row(x=Decimal('24.675'), y=576), Row(x=Decimal('25.125'), y=320), Row(x=Decimal('25.575'), y=512), Row(x=Decimal('26.025'), y=192), Row(x=Decimal('26.475'), y=576), Row(x=Decimal('26.925'), y=256), Row(x=Decimal('27.375'), y=640), Row(x=Decimal('27.825'), y=320), Row(x=Decimal('28.275'), y=384), Row(x=Decimal('28.725'), y=384), Row(x=Decimal('29.175'), y=320), Row(x=Decimal('29.625'), y=256), Row(x=Decimal('30.075'), y=576), Row(x=Decimal('30.525'), y=320), Row(x=Decimal('30.975'), y=128), Row(x=Decimal('31.425'), y=704), Row(x=Decimal('31.875'), y=512), Row(x=Decimal('32.325'), y=128), Row(x=Decimal('32.775'), y=320), Row(x=Decimal('33.225'), y=512), Row(x=Decimal('33.675'), y=704), Row(x=Decimal('34.125'), y=128), Row(x=Decimal('34.575'), y=64), Row(x=Decimal('35.025'), y=128), Row(x=Decimal('35.475'), y=128), Row(x=Decimal('36.375'), y=192), Row(x=Decimal('36.825'), y=384), Row(x=Decimal('37.275'), y=256), Row(x=Decimal('37.725'), y=128), Row(x=Decimal('38.175'), y=128), Row(x=Decimal('38.625'), y=384), Row(x=Decimal('39.075'), y=128), Row(x=Decimal('39.525'), y=576), Row(x=Decimal('39.975'), y=256), Row(x=Decimal('40.425'), y=256), Row(x=Decimal('40.875'), y=512), Row(x=Decimal('41.325'), y=256), Row(x=Decimal('41.775'), y=64), Row(x=Decimal('42.225'), y=192), Row(x=Decimal('42.675'), y=192), Row(x=Decimal('43.125'), y=320), Row(x=Decimal('44.025'), y=320), Row(x=Decimal('44.475'), y=128), Row(x=Decimal('44.925'), y=128), Row(x=Decimal('45.375'), y=128), Row(x=Decimal('45.825'), y=192), Row(x=Decimal('46.275'), y=192), Row(x=Decimal('46.725'), y=64), Row(x=Decimal('47.175'), y=320), Row(x=Decimal('47.625'), y=64), Row(x=Decimal('48.075'), y=64), Row(x=Decimal('48.525'), y=64), Row(x=Decimal('48.975'), y=320), Row(x=Decimal('49.875'), y=128), Row(x=Decimal('50.325'), y=192), Row(x=Decimal('50.775'), y=192), Row(x=Decimal('51.225'), y=192), Row(x=Decimal('51.675'), y=384), Row(x=Decimal('52.125'), y=192), Row(x=Decimal('52.575'), y=192), Row(x=Decimal('53.025'), y=128), Row(x=Decimal('53.475'), y=128), Row(x=Decimal('53.925'), y=64), Row(x=Decimal('54.375'), y=192), Row(x=Decimal('54.825'), y=128), Row(x=Decimal('55.275'), y=64), Row(x=Decimal('55.725'), y=128), Row(x=Decimal('56.175'), y=192), Row(x=Decimal('56.625'), y=128), Row(x=Decimal('57.075'), y=320), Row(x=Decimal('57.525'), y=64), Row(x=Decimal('57.975'), y=128), Row(x=Decimal('58.425'), y=64), Row(x=Decimal('58.875'), y=192), Row(x=Decimal('59.325'), y=64), Row(x=Decimal('59.775'), y=64), Row(x=Decimal('60.225'), y=8000)]\n",
      "Query 3:  0.2003779411315918\n",
      "[Row(x=10, y=2432), Row(x=30, y=3328), Row(x=50, y=1408), Row(x=70, y=64), Row(x=110, y=128), Row(x=130, y=64)]\n",
      "Query 4:  0.13384127616882324\n",
      "[Row(x=10, y=39), Row(x=30, y=15), Row(x=50, y=2), Row(x=70, y=1)]\n",
      "Query 5:  0.30333614349365234\n",
      "[Row(x=Decimal('14.875'), y=39), Row(x=Decimal('15.125'), y=1), Row(x=Decimal('15.375'), y=1), Row(x=Decimal('15.625'), y=3), Row(x=Decimal('15.875'), y=3), Row(x=Decimal('16.625'), y=2), Row(x=Decimal('16.875'), y=1), Row(x=Decimal('17.625'), y=1), Row(x=Decimal('17.875'), y=1), Row(x=Decimal('18.375'), y=2), Row(x=Decimal('18.625'), y=1), Row(x=Decimal('18.875'), y=1), Row(x=Decimal('19.375'), y=4), Row(x=Decimal('19.625'), y=1), Row(x=Decimal('19.875'), y=2), Row(x=Decimal('20.125'), y=1), Row(x=Decimal('20.625'), y=3), Row(x=Decimal('20.875'), y=3), Row(x=Decimal('21.125'), y=2), Row(x=Decimal('21.625'), y=2), Row(x=Decimal('21.875'), y=3), Row(x=Decimal('22.125'), y=2), Row(x=Decimal('22.375'), y=2), Row(x=Decimal('22.625'), y=2), Row(x=Decimal('23.375'), y=1), Row(x=Decimal('23.875'), y=2), Row(x=Decimal('24.125'), y=1), Row(x=Decimal('24.375'), y=1), Row(x=Decimal('24.625'), y=3), Row(x=Decimal('24.875'), y=3), Row(x=Decimal('25.125'), y=1), Row(x=Decimal('25.625'), y=1), Row(x=Decimal('25.875'), y=1), Row(x=Decimal('26.125'), y=3), Row(x=Decimal('26.375'), y=3), Row(x=Decimal('26.625'), y=1), Row(x=Decimal('27.125'), y=1), Row(x=Decimal('27.625'), y=1), Row(x=Decimal('27.875'), y=2), Row(x=Decimal('28.125'), y=3), Row(x=Decimal('28.375'), y=1), Row(x=Decimal('28.875'), y=3), Row(x=Decimal('29.125'), y=2), Row(x=Decimal('29.375'), y=2), Row(x=Decimal('29.625'), y=3), Row(x=Decimal('30.125'), y=2), Row(x=Decimal('30.375'), y=3), Row(x=Decimal('30.875'), y=1), Row(x=Decimal('31.375'), y=1), Row(x=Decimal('31.625'), y=1), Row(x=Decimal('31.875'), y=2), Row(x=Decimal('32.125'), y=1), Row(x=Decimal('32.375'), y=1), Row(x=Decimal('32.875'), y=1), Row(x=Decimal('33.625'), y=2), Row(x=Decimal('33.875'), y=3), Row(x=Decimal('34.125'), y=2), Row(x=Decimal('34.375'), y=1), Row(x=Decimal('34.625'), y=1), Row(x=Decimal('34.875'), y=2), Row(x=Decimal('35.125'), y=2), Row(x=Decimal('35.625'), y=2), Row(x=Decimal('35.875'), y=1), Row(x=Decimal('36.375'), y=2), Row(x=Decimal('36.625'), y=1), Row(x=Decimal('36.875'), y=1), Row(x=Decimal('37.125'), y=1), Row(x=Decimal('37.625'), y=2), Row(x=Decimal('38.125'), y=1), Row(x=Decimal('38.375'), y=1), Row(x=Decimal('38.625'), y=1), Row(x=Decimal('39.125'), y=2), Row(x=Decimal('39.375'), y=1), Row(x=Decimal('39.875'), y=2), Row(x=Decimal('40.125'), y=108)]\n",
      "Query 6-1:  0.6445620059967041\n",
      "[Row(x=Decimal('-0.005'), y=23), Row(x=Decimal('0.015'), y=3), Row(x=Decimal('0.025'), y=1), Row(x=Decimal('0.035'), y=2), Row(x=Decimal('0.065'), y=3), Row(x=Decimal('0.075'), y=3), Row(x=Decimal('0.085'), y=4), Row(x=Decimal('0.095'), y=1), Row(x=Decimal('0.105'), y=3), Row(x=Decimal('0.115'), y=2), Row(x=Decimal('0.125'), y=2), Row(x=Decimal('0.135'), y=2), Row(x=Decimal('0.155'), y=1), Row(x=Decimal('0.165'), y=2), Row(x=Decimal('0.175'), y=2), Row(x=Decimal('0.185'), y=4), Row(x=Decimal('0.195'), y=5), Row(x=Decimal('0.205'), y=5), Row(x=Decimal('0.215'), y=4), Row(x=Decimal('0.225'), y=2), Row(x=Decimal('0.235'), y=5), Row(x=Decimal('0.245'), y=4), Row(x=Decimal('0.265'), y=2), Row(x=Decimal('0.275'), y=2), Row(x=Decimal('0.295'), y=6), Row(x=Decimal('0.305'), y=2), Row(x=Decimal('0.315'), y=3), Row(x=Decimal('0.335'), y=1), Row(x=Decimal('0.355'), y=2), Row(x=Decimal('0.365'), y=1), Row(x=Decimal('0.375'), y=2), Row(x=Decimal('0.385'), y=3), Row(x=Decimal('0.395'), y=1), Row(x=Decimal('0.405'), y=1), Row(x=Decimal('0.415'), y=1), Row(x=Decimal('0.425'), y=1), Row(x=Decimal('0.435'), y=1), Row(x=Decimal('0.445'), y=2), Row(x=Decimal('0.455'), y=1), Row(x=Decimal('0.465'), y=1), Row(x=Decimal('0.495'), y=2), Row(x=Decimal('0.505'), y=1), Row(x=Decimal('0.515'), y=2), Row(x=Decimal('0.545'), y=3), Row(x=Decimal('0.555'), y=3), Row(x=Decimal('0.565'), y=1), Row(x=Decimal('0.575'), y=1), Row(x=Decimal('0.585'), y=2), Row(x=Decimal('0.605'), y=1), Row(x=Decimal('0.615'), y=1), Row(x=Decimal('0.625'), y=2), Row(x=Decimal('0.635'), y=1), Row(x=Decimal('0.645'), y=1), Row(x=Decimal('0.655'), y=1), Row(x=Decimal('0.665'), y=2), Row(x=Decimal('0.675'), y=4), Row(x=Decimal('0.685'), y=1), Row(x=Decimal('0.715'), y=1), Row(x=Decimal('0.735'), y=2), Row(x=Decimal('0.755'), y=2), Row(x=Decimal('0.775'), y=1), Row(x=Decimal('0.785'), y=1), Row(x=Decimal('0.795'), y=2), Row(x=Decimal('0.805'), y=2), Row(x=Decimal('0.825'), y=2), Row(x=Decimal('0.845'), y=3), Row(x=Decimal('0.865'), y=2), Row(x=Decimal('0.875'), y=2), Row(x=Decimal('0.885'), y=4), Row(x=Decimal('0.895'), y=8), Row(x=Decimal('0.905'), y=4), Row(x=Decimal('0.915'), y=2), Row(x=Decimal('0.925'), y=9), Row(x=Decimal('0.935'), y=5), Row(x=Decimal('0.945'), y=7), Row(x=Decimal('0.955'), y=12), Row(x=Decimal('0.965'), y=10), Row(x=Decimal('0.975'), y=13), Row(x=Decimal('0.985'), y=6), Row(x=Decimal('0.995'), y=29)]\n",
      "Query 6-2:  0.6304962635040283\n",
      "[Row(x=Decimal('200.925'), y=344)]\n",
      "Query 7:  0.49363017082214355\n",
      "23/02/22 03:17:25 WARN CharVarcharUtils: The Spark cast operator does not support char/varchar type and simply treats them as string type. Please use string type directly to avoid confusion. Otherwise, you can set spark.sql.legacy.charVarcharAsString to true, so that Spark treat them as string type as same as Spark 3.0 and earlier\n",
      "23/02/22 03:17:25 WARN CharVarcharUtils: The Spark cast operator does not support char/varchar type and simply treats them as string type. Please use string type directly to avoid confusion. Otherwise, you can set spark.sql.legacy.charVarcharAsString to true, so that Spark treat them as string type as same as Spark 3.0 and earlier\n",
      "[Row(x=Decimal('13.825'), y=30), Row(x=Decimal('16.175'), y=2), Row(x=Decimal('18.525'), y=2), Row(x=Decimal('20.875'), y=3), Row(x=Decimal('23.225'), y=4), Row(x=Decimal('25.575'), y=2), Row(x=Decimal('27.925'), y=2), Row(x=Decimal('30.275'), y=2), Row(x=Decimal('32.625'), y=1), Row(x=Decimal('34.975'), y=5), Row(x=Decimal('37.325'), y=2), Row(x=Decimal('39.675'), y=3), Row(x=Decimal('42.025'), y=1), Row(x=Decimal('44.375'), y=1), Row(x=Decimal('46.725'), y=1), Row(x=Decimal('49.075'), y=3), Row(x=Decimal('51.425'), y=2), Row(x=Decimal('53.775'), y=1), Row(x=Decimal('60.825'), y=1), Row(x=Decimal('91.375'), y=1), Row(x=Decimal('93.725'), y=1), Row(x=Decimal('96.075'), y=1), Row(x=Decimal('100.775'), y=1), Row(x=Decimal('138.375'), y=1)]\n",
      "Query 8:  0.5095250606536865\n"
     ]
    }
   ],
   "source": [
    "import time\n",
    "\n",
    "for query_id in [\"1\", \"2\", \"3\", \"4\", \"5\", \"6-1\", \"6-2\", \"7\", \"8\"]:\n",
    "    with open(f\"queries/query{query_id}.sql\") as f:\n",
    "        query = f.read()\n",
    "        query = query.replace(\"{table}\", \"hep\")\n",
    "        s = time.time()\n",
    "        resp = spark.sql(query).collect()\n",
    "        print(resp)\n",
    "        e = time.time()\n",
    "        print(f\"Query {query_id}: \", e-s)"
   ]
  }
 ],
 "metadata": {
  "kernelspec": {
   "display_name": "Python 3 (ipykernel)",
   "language": "python",
   "name": "python3"
  },
  "language_info": {
   "codemirror_mode": {
    "name": "ipython",
    "version": 3
   },
   "file_extension": ".py",
   "mimetype": "text/x-python",
   "name": "python",
   "nbconvert_exporter": "python",
   "pygments_lexer": "ipython3",
   "version": "3.9.16"
  }
 },
 "nbformat": 4,
 "nbformat_minor": 5
}
