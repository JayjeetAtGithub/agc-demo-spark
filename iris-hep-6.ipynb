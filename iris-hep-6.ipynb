{
 "cells": [
  {
   "cell_type": "markdown",
   "id": "c8a6635a",
   "metadata": {},
   "source": [
    "# Lakehousing of HEP data using Apache Iceberg\n",
    "\n",
    "Jayjeet Chakraborty, University of California, Santa Cruz\n",
    "\n",
    "\n",
    "## Features of Iceberg:\n",
    "\n",
    "* Supports transactions\n",
    "* Hidden Partitioning\n",
    "* Schema Evolution\n",
    "* Time Travel and Rollbacks\n",
    "* Expressive SQL"
   ]
  },
  {
   "cell_type": "markdown",
   "id": "215dcdca",
   "metadata": {},
   "source": [
    "## Adding Iceberg to Spark"
   ]
  },
  {
   "cell_type": "markdown",
   "id": "86df8d01",
   "metadata": {},
   "source": [
    "The Iceberg JAR file has to be copied to the Spark installation's JAR directory."
   ]
  },
  {
   "cell_type": "code",
   "execution_count": 144,
   "id": "7cc88993",
   "metadata": {},
   "outputs": [
    {
     "name": "stdout",
     "output_type": "stream",
     "text": [
      "iceberg-spark-runtime-3.3_2.12-1.1.0.jar\r\n"
     ]
    }
   ],
   "source": [
    "!ls /opt/spark/jars | grep \"iceberg\""
   ]
  },
  {
   "cell_type": "markdown",
   "id": "26054a6c",
   "metadata": {},
   "source": [
    "We need to add some configurations options for Spark to pickup Iceberg."
   ]
  },
  {
   "cell_type": "code",
   "execution_count": 145,
   "id": "829d0def",
   "metadata": {
    "scrolled": true
   },
   "outputs": [
    {
     "name": "stdout",
     "output_type": "stream",
     "text": [
      "spark.sql.extensions                   org.apache.iceberg.spark.extensions.IcebergSparkSessionExtensions\r\n",
      "spark.sql.catalog.demo                 org.apache.iceberg.spark.SparkCatalog\r\n",
      "spark.sql.catalog.demo.warehouse       warehouse\r\n",
      "spark.sql.catalog.demo.type            hadoop\r\n",
      "spark.sql.defaultCatalog               demo\r\n",
      "spark.eventLog.enabled                 true\r\n",
      "spark.eventLog.dir                     /home/iceberg/spark-events\r\n",
      "spark.history.fs.logDirectory          /home/iceberg/spark-events\r\n",
      "spark.sql.catalogImplementation        in-memory\r\n",
      "\r\n"
     ]
    }
   ],
   "source": [
    "!cat /opt/spark/conf/spark-defaults.conf"
   ]
  },
  {
   "cell_type": "code",
   "execution_count": 146,
   "id": "9767e220",
   "metadata": {},
   "outputs": [
    {
     "data": {
      "text/html": [
       "\n",
       "            <div>\n",
       "                <p><b>SparkSession - in-memory</b></p>\n",
       "                \n",
       "        <div>\n",
       "            <p><b>SparkContext</b></p>\n",
       "\n",
       "            <p><a href=\"http://7169a6db27dd:4041\">Spark UI</a></p>\n",
       "\n",
       "            <dl>\n",
       "              <dt>Version</dt>\n",
       "                <dd><code>v3.3.1</code></dd>\n",
       "              <dt>Master</dt>\n",
       "                <dd><code>local[*]</code></dd>\n",
       "              <dt>AppName</dt>\n",
       "                <dd><code>PySparkShell</code></dd>\n",
       "            </dl>\n",
       "        </div>\n",
       "        \n",
       "            </div>\n",
       "        "
      ],
      "text/plain": [
       "<pyspark.sql.session.SparkSession at 0x7f8b6ff5f9a0>"
      ]
     },
     "execution_count": 146,
     "metadata": {},
     "output_type": "execute_result"
    }
   ],
   "source": [
    "spark"
   ]
  },
  {
   "cell_type": "markdown",
   "id": "154c20a9",
   "metadata": {},
   "source": [
    "## Creating an Iceberg table from a Parquet file"
   ]
  },
  {
   "cell_type": "markdown",
   "id": "05e68412",
   "metadata": {},
   "source": [
    "We read NanoEvents data out of our Parquet file into a Spark Dataframe"
   ]
  },
  {
   "cell_type": "code",
   "execution_count": 234,
   "id": "7b23d635",
   "metadata": {},
   "outputs": [
    {
     "data": {
      "text/plain": [
       "DataFrame[run: int, luminosityBlock: bigint, event: bigint, MET: struct<pt:float,phi:float,sumet:float,significance:float,CovXX:float,CovXY:float,CovYY:float>, HLT: struct<IsoMu24_eta2p1:boolean,IsoMu24:boolean,IsoMu17_eta2p1_LooseIsoPFTau20:boolean>, PV: struct<npvs:int,x:float,y:float,z:float>, Muon: array<struct<pt:float,eta:float,phi:float,mass:float,charge:int,pfRelIso03_all:float,pfRelIso04_all:float,tightId:boolean,softId:boolean,dxy:float,dxyErr:float,dz:float,dzErr:float,jetIdx:int,genPartIdx:int>>, Electron: array<struct<pt:float,eta:float,phi:float,mass:float,charge:int,pfRelIso03_all:float,dxy:float,dxyErr:float,dz:float,dzErr:float,cutBasedId:boolean,pfId:boolean,jetIdx:int,genPartIdx:int>>, Photon: array<struct<pt:float,eta:float,phi:float,mass:float,charge:int,pfRelIso03_all:float,jetIdx:int,genPartIdx:int>>, Jet: array<struct<pt:float,eta:float,phi:float,mass:float,puId:boolean,btag:float>>, Tau: array<struct<pt:float,eta:float,phi:float,mass:float,charge:int,decayMode:int,relIso_all:float,jetIdx:int,genPartIdx:int,idDecayMode:boolean,idIsoRaw:float,idIsoVLoose:boolean,idIsoLoose:boolean,idIsoMedium:boolean,idIsoTight:boolean,idAntiEleLoose:boolean,idAntiEleMedium:boolean,idAntiEleTight:boolean,idAntiMuLoose:boolean,idAntiMuMedium:boolean,idAntiMuTight:boolean>>]"
      ]
     },
     "execution_count": 234,
     "metadata": {},
     "output_type": "execute_result"
    }
   ],
   "source": [
    "df = spark.read.parquet(\"Run2012B_SingleMu-1000.parquet\")\n",
    "df"
   ]
  },
  {
   "cell_type": "markdown",
   "id": "2d8c7175",
   "metadata": {},
   "source": [
    "We now create an Iceberg table out of this dataframe partitioned by the `event` field."
   ]
  },
  {
   "cell_type": "code",
   "execution_count": 235,
   "id": "3d440222",
   "metadata": {
    "scrolled": true
   },
   "outputs": [
    {
     "data": {
      "text/html": [
       "<table>\n",
       "    <thead>\n",
       "        <tr>\n",
       "        </tr>\n",
       "    </thead>\n",
       "    <tbody>\n",
       "    </tbody>\n",
       "</table>"
      ],
      "text/plain": [
       "++\n",
       "||\n",
       "++\n",
       "++"
      ]
     },
     "execution_count": 235,
     "metadata": {},
     "output_type": "execute_result"
    }
   ],
   "source": [
    "%%sql\n",
    "\n",
    "DROP TABLE IF EXISTS iris_hep;"
   ]
  },
  {
   "cell_type": "code",
   "execution_count": 237,
   "id": "e80b53b4",
   "metadata": {
    "scrolled": true
   },
   "outputs": [],
   "source": [
    "df = df[df['event']<62362200]\n",
    "df.writeTo(\"iris_hep\").partitionedBy('event').using(\"iceberg\").create()"
   ]
  },
  {
   "cell_type": "markdown",
   "id": "e2ec5ea4",
   "metadata": {},
   "source": [
    "## Data, Metadata, WAL, and Snapshots"
   ]
  },
  {
   "cell_type": "markdown",
   "id": "6e45cbd8",
   "metadata": {},
   "source": [
    "Data files"
   ]
  },
  {
   "cell_type": "code",
   "execution_count": 238,
   "id": "a6d40762",
   "metadata": {
    "scrolled": true
   },
   "outputs": [
    {
     "data": {
      "text/html": [
       "<table>\n",
       "    <thead>\n",
       "        <tr>\n",
       "            <th>file_path</th>\n",
       "            <th>file_size_in_bytes</th>\n",
       "        </tr>\n",
       "    </thead>\n",
       "    <tbody>\n",
       "        <tr>\n",
       "            <td>warehouse/iris_hep/data/event=62359790/00000-1499-63eace2d-a3ad-417f-b695-f31c483d4c12-00001.parquet</td>\n",
       "            <td>21439</td>\n",
       "        </tr>\n",
       "        <tr>\n",
       "            <td>warehouse/iris_hep/data/event=62361579/00000-1499-63eace2d-a3ad-417f-b695-f31c483d4c12-00002.parquet</td>\n",
       "            <td>21467</td>\n",
       "        </tr>\n",
       "        <tr>\n",
       "            <td>warehouse/iris_hep/data/event=62362173/00000-1499-63eace2d-a3ad-417f-b695-f31c483d4c12-00003.parquet</td>\n",
       "            <td>23876</td>\n",
       "        </tr>\n",
       "    </tbody>\n",
       "</table>"
      ],
      "text/plain": [
       "+------------------------------------------------------------------------------------------------------+--------------------+\n",
       "|                                                                                            file_path | file_size_in_bytes |\n",
       "+------------------------------------------------------------------------------------------------------+--------------------+\n",
       "| warehouse/iris_hep/data/event=62359790/00000-1499-63eace2d-a3ad-417f-b695-f31c483d4c12-00001.parquet |              21439 |\n",
       "| warehouse/iris_hep/data/event=62361579/00000-1499-63eace2d-a3ad-417f-b695-f31c483d4c12-00002.parquet |              21467 |\n",
       "| warehouse/iris_hep/data/event=62362173/00000-1499-63eace2d-a3ad-417f-b695-f31c483d4c12-00003.parquet |              23876 |\n",
       "+------------------------------------------------------------------------------------------------------+--------------------+"
      ]
     },
     "execution_count": 238,
     "metadata": {},
     "output_type": "execute_result"
    }
   ],
   "source": [
    "%%sql\n",
    "\n",
    "SELECT file_path, file_size_in_bytes FROM demo.iris_hep.all_data_files;"
   ]
  },
  {
   "cell_type": "markdown",
   "id": "ad08846e",
   "metadata": {},
   "source": [
    "Metadata files"
   ]
  },
  {
   "cell_type": "code",
   "execution_count": 165,
   "id": "4cf6741b",
   "metadata": {},
   "outputs": [
    {
     "data": {
      "text/html": [
       "<table>\n",
       "    <thead>\n",
       "        <tr>\n",
       "            <th>content</th>\n",
       "            <th>path</th>\n",
       "            <th>length</th>\n",
       "            <th>partition_spec_id</th>\n",
       "            <th>added_snapshot_id</th>\n",
       "            <th>added_data_files_count</th>\n",
       "            <th>existing_data_files_count</th>\n",
       "            <th>deleted_data_files_count</th>\n",
       "            <th>added_delete_files_count</th>\n",
       "            <th>existing_delete_files_count</th>\n",
       "            <th>deleted_delete_files_count</th>\n",
       "            <th>partition_summaries</th>\n",
       "        </tr>\n",
       "    </thead>\n",
       "    <tbody>\n",
       "        <tr>\n",
       "            <td>0</td>\n",
       "            <td>warehouse/iris_hep/metadata/dc806fc5-1836-43cb-abc3-42ff202e79a9-m0.avro</td>\n",
       "            <td>12631</td>\n",
       "            <td>0</td>\n",
       "            <td>4553086720717858461</td>\n",
       "            <td>1</td>\n",
       "            <td>0</td>\n",
       "            <td>0</td>\n",
       "            <td>0</td>\n",
       "            <td>0</td>\n",
       "            <td>0</td>\n",
       "            <td>[]</td>\n",
       "        </tr>\n",
       "    </tbody>\n",
       "</table>"
      ],
      "text/plain": [
       "+---------+--------------------------------------------------------------------------+--------+-------------------+---------------------+------------------------+---------------------------+--------------------------+--------------------------+-----------------------------+----------------------------+---------------------+\n",
       "| content |                                                                     path | length | partition_spec_id |   added_snapshot_id | added_data_files_count | existing_data_files_count | deleted_data_files_count | added_delete_files_count | existing_delete_files_count | deleted_delete_files_count | partition_summaries |\n",
       "+---------+--------------------------------------------------------------------------+--------+-------------------+---------------------+------------------------+---------------------------+--------------------------+--------------------------+-----------------------------+----------------------------+---------------------+\n",
       "|       0 | warehouse/iris_hep/metadata/dc806fc5-1836-43cb-abc3-42ff202e79a9-m0.avro |  12631 |                 0 | 4553086720717858461 |                      1 |                         0 |                        0 |                        0 |                           0 |                          0 |                  [] |\n",
       "+---------+--------------------------------------------------------------------------+--------+-------------------+---------------------+------------------------+---------------------------+--------------------------+--------------------------+-----------------------------+----------------------------+---------------------+"
      ]
     },
     "execution_count": 165,
     "metadata": {},
     "output_type": "execute_result"
    }
   ],
   "source": [
    "%%sql\n",
    "\n",
    "SELECT * FROM demo.iris_hep.manifests;"
   ]
  },
  {
   "cell_type": "markdown",
   "id": "e80d34b5",
   "metadata": {},
   "source": [
    "Write-Ahead Log files that enables transactions"
   ]
  },
  {
   "cell_type": "code",
   "execution_count": 164,
   "id": "5a27cbd9",
   "metadata": {},
   "outputs": [
    {
     "data": {
      "text/html": [
       "<table>\n",
       "    <thead>\n",
       "        <tr>\n",
       "            <th>timestamp</th>\n",
       "            <th>file</th>\n",
       "            <th>latest_snapshot_id</th>\n",
       "            <th>latest_schema_id</th>\n",
       "            <th>latest_sequence_number</th>\n",
       "        </tr>\n",
       "    </thead>\n",
       "    <tbody>\n",
       "        <tr>\n",
       "            <td>2022-12-16 04:33:53.542000</td>\n",
       "            <td>warehouse/iris_hep/metadata/v1.metadata.json</td>\n",
       "            <td>4553086720717858461</td>\n",
       "            <td>0</td>\n",
       "            <td>0</td>\n",
       "        </tr>\n",
       "    </tbody>\n",
       "</table>"
      ],
      "text/plain": [
       "+----------------------------+----------------------------------------------+---------------------+------------------+------------------------+\n",
       "|                  timestamp |                                         file |  latest_snapshot_id | latest_schema_id | latest_sequence_number |\n",
       "+----------------------------+----------------------------------------------+---------------------+------------------+------------------------+\n",
       "| 2022-12-16 04:33:53.542000 | warehouse/iris_hep/metadata/v1.metadata.json | 4553086720717858461 |                0 |                      0 |\n",
       "+----------------------------+----------------------------------------------+---------------------+------------------+------------------------+"
      ]
     },
     "execution_count": 164,
     "metadata": {},
     "output_type": "execute_result"
    }
   ],
   "source": [
    "%%sql\n",
    "\n",
    "SELECT * from demo.iris_hep.metadata_log_entries;"
   ]
  },
  {
   "cell_type": "markdown",
   "id": "c99651b6",
   "metadata": {},
   "source": [
    "Snapshot files"
   ]
  },
  {
   "cell_type": "code",
   "execution_count": 163,
   "id": "81f5a7e8",
   "metadata": {
    "scrolled": true
   },
   "outputs": [
    {
     "data": {
      "text/html": [
       "<table>\n",
       "    <thead>\n",
       "        <tr>\n",
       "            <th>snapshot_id</th>\n",
       "            <th>manifest_list</th>\n",
       "        </tr>\n",
       "    </thead>\n",
       "    <tbody>\n",
       "        <tr>\n",
       "            <td>4553086720717858461</td>\n",
       "            <td>warehouse/iris_hep/metadata/snap-4553086720717858461-1-dc806fc5-1836-43cb-abc3-42ff202e79a9.avro</td>\n",
       "        </tr>\n",
       "    </tbody>\n",
       "</table>"
      ],
      "text/plain": [
       "+---------------------+--------------------------------------------------------------------------------------------------+\n",
       "|         snapshot_id |                                                                                    manifest_list |\n",
       "+---------------------+--------------------------------------------------------------------------------------------------+\n",
       "| 4553086720717858461 | warehouse/iris_hep/metadata/snap-4553086720717858461-1-dc806fc5-1836-43cb-abc3-42ff202e79a9.avro |\n",
       "+---------------------+--------------------------------------------------------------------------------------------------+"
      ]
     },
     "execution_count": 163,
     "metadata": {},
     "output_type": "execute_result"
    }
   ],
   "source": [
    "%%sql\n",
    "\n",
    "SELECT snapshot_id, manifest_list FROM demo.iris_hep.snapshots"
   ]
  },
  {
   "cell_type": "markdown",
   "id": "c519f3e7",
   "metadata": {},
   "source": [
    "## Schema Evolution\n",
    "\n",
    "Iceberg allows adding, dropping, renaming, updating, and reordering columns with just metadata operations which are fast and do not need rewriting any data files. Altering the schema does not create a new snapshot. We beging by checking the schema of our table."
   ]
  },
  {
   "cell_type": "code",
   "execution_count": 166,
   "id": "0b6db6cf",
   "metadata": {},
   "outputs": [
    {
     "data": {
      "text/html": [
       "<table>\n",
       "    <thead>\n",
       "        <tr>\n",
       "            <th>col_name</th>\n",
       "            <th>data_type</th>\n",
       "            <th>comment</th>\n",
       "        </tr>\n",
       "    </thead>\n",
       "    <tbody>\n",
       "        <tr>\n",
       "            <td>run</td>\n",
       "            <td>int</td>\n",
       "            <td></td>\n",
       "        </tr>\n",
       "        <tr>\n",
       "            <td>luminosityBlock</td>\n",
       "            <td>bigint</td>\n",
       "            <td></td>\n",
       "        </tr>\n",
       "        <tr>\n",
       "            <td>event</td>\n",
       "            <td>bigint</td>\n",
       "            <td></td>\n",
       "        </tr>\n",
       "        <tr>\n",
       "            <td>MET</td>\n",
       "            <td>struct&lt;pt:float,phi:float,sumet:float,significance:float,CovXX:float,CovXY:float,CovYY:float&gt;</td>\n",
       "            <td></td>\n",
       "        </tr>\n",
       "        <tr>\n",
       "            <td>HLT</td>\n",
       "            <td>struct&lt;IsoMu24_eta2p1:boolean,IsoMu24:boolean,IsoMu17_eta2p1_LooseIsoPFTau20:boolean&gt;</td>\n",
       "            <td></td>\n",
       "        </tr>\n",
       "        <tr>\n",
       "            <td>PV</td>\n",
       "            <td>struct&lt;npvs:int,x:float,y:float,z:float&gt;</td>\n",
       "            <td></td>\n",
       "        </tr>\n",
       "        <tr>\n",
       "            <td>Muon</td>\n",
       "            <td>array&lt;struct&lt;pt:float,eta:float,phi:float,mass:float,charge:int,pfRelIso03_all:float,pfRelIso04_all:float,tightId:boolean,softId:boolean,dxy:float,dxyErr:float,dz:float,dzErr:float,jetIdx:int,genPartIdx:int&gt;&gt;</td>\n",
       "            <td></td>\n",
       "        </tr>\n",
       "        <tr>\n",
       "            <td>Electron</td>\n",
       "            <td>array&lt;struct&lt;pt:float,eta:float,phi:float,mass:float,charge:int,pfRelIso03_all:float,dxy:float,dxyErr:float,dz:float,dzErr:float,cutBasedId:boolean,pfId:boolean,jetIdx:int,genPartIdx:int&gt;&gt;</td>\n",
       "            <td></td>\n",
       "        </tr>\n",
       "        <tr>\n",
       "            <td>Photon</td>\n",
       "            <td>array&lt;struct&lt;pt:float,eta:float,phi:float,mass:float,charge:int,pfRelIso03_all:float,jetIdx:int,genPartIdx:int&gt;&gt;</td>\n",
       "            <td></td>\n",
       "        </tr>\n",
       "        <tr>\n",
       "            <td>Jet</td>\n",
       "            <td>array&lt;struct&lt;pt:float,eta:float,phi:float,mass:float,puId:boolean,btag:float&gt;&gt;</td>\n",
       "            <td></td>\n",
       "        </tr>\n",
       "        <tr>\n",
       "            <td>Tau</td>\n",
       "            <td>array&lt;struct&lt;pt:float,eta:float,phi:float,mass:float,charge:int,decayMode:int,relIso_all:float,jetIdx:int,genPartIdx:int,idDecayMode:boolean,idIsoRaw:float,idIsoVLoose:boolean,idIsoLoose:boolean,idIsoMedium:boolean,idIsoTight:boolean,idAntiEleLoose:boolean,idAntiEleMedium:boolean,idAntiEleTight:boolean,idAntiMuLoose:boolean,idAntiMuMedium:boolean,idAntiMuTight:boolean&gt;&gt;</td>\n",
       "            <td></td>\n",
       "        </tr>\n",
       "        <tr>\n",
       "            <td></td>\n",
       "            <td></td>\n",
       "            <td></td>\n",
       "        </tr>\n",
       "        <tr>\n",
       "            <td># Partitioning</td>\n",
       "            <td></td>\n",
       "            <td></td>\n",
       "        </tr>\n",
       "        <tr>\n",
       "            <td>Not partitioned</td>\n",
       "            <td></td>\n",
       "            <td></td>\n",
       "        </tr>\n",
       "    </tbody>\n",
       "</table>"
      ],
      "text/plain": [
       "+-----------------+--------------------------------------------------------------------------------------------------------------------------------------------------------------------------------------------------------------------------------------------------------------------------------------------------------------------------------------------------------------------------------------+---------+\n",
       "|        col_name |                                                                                                                                                                                                                                                                                                                                                                            data_type | comment |\n",
       "+-----------------+--------------------------------------------------------------------------------------------------------------------------------------------------------------------------------------------------------------------------------------------------------------------------------------------------------------------------------------------------------------------------------------+---------+\n",
       "|             run |                                                                                                                                                                                                                                                                                                                                                                                  int |         |\n",
       "| luminosityBlock |                                                                                                                                                                                                                                                                                                                                                                               bigint |         |\n",
       "|           event |                                                                                                                                                                                                                                                                                                                                                                               bigint |         |\n",
       "|             MET |                                                                                                                                                                                                                                                                                        struct<pt:float,phi:float,sumet:float,significance:float,CovXX:float,CovXY:float,CovYY:float> |         |\n",
       "|             HLT |                                                                                                                                                                                                                                                                                                struct<IsoMu24_eta2p1:boolean,IsoMu24:boolean,IsoMu17_eta2p1_LooseIsoPFTau20:boolean> |         |\n",
       "|              PV |                                                                                                                                                                                                                                                                                                                                             struct<npvs:int,x:float,y:float,z:float> |         |\n",
       "|            Muon |                                                                                                                                                                     array<struct<pt:float,eta:float,phi:float,mass:float,charge:int,pfRelIso03_all:float,pfRelIso04_all:float,tightId:boolean,softId:boolean,dxy:float,dxyErr:float,dz:float,dzErr:float,jetIdx:int,genPartIdx:int>> |         |\n",
       "|        Electron |                                                                                                                                                                                         array<struct<pt:float,eta:float,phi:float,mass:float,charge:int,pfRelIso03_all:float,dxy:float,dxyErr:float,dz:float,dzErr:float,cutBasedId:boolean,pfId:boolean,jetIdx:int,genPartIdx:int>> |         |\n",
       "|          Photon |                                                                                                                                                                                                                                                                     array<struct<pt:float,eta:float,phi:float,mass:float,charge:int,pfRelIso03_all:float,jetIdx:int,genPartIdx:int>> |         |\n",
       "|             Jet |                                                                                                                                                                                                                                                                                                       array<struct<pt:float,eta:float,phi:float,mass:float,puId:boolean,btag:float>> |         |\n",
       "|             Tau | array<struct<pt:float,eta:float,phi:float,mass:float,charge:int,decayMode:int,relIso_all:float,jetIdx:int,genPartIdx:int,idDecayMode:boolean,idIsoRaw:float,idIsoVLoose:boolean,idIsoLoose:boolean,idIsoMedium:boolean,idIsoTight:boolean,idAntiEleLoose:boolean,idAntiEleMedium:boolean,idAntiEleTight:boolean,idAntiMuLoose:boolean,idAntiMuMedium:boolean,idAntiMuTight:boolean>> |         |\n",
       "|                 |                                                                                                                                                                                                                                                                                                                                                                                      |         |\n",
       "|  # Partitioning |                                                                                                                                                                                                                                                                                                                                                                                      |         |\n",
       "| Not partitioned |                                                                                                                                                                                                                                                                                                                                                                                      |         |\n",
       "+-----------------+--------------------------------------------------------------------------------------------------------------------------------------------------------------------------------------------------------------------------------------------------------------------------------------------------------------------------------------------------------------------------------------+---------+"
      ]
     },
     "execution_count": 166,
     "metadata": {},
     "output_type": "execute_result"
    }
   ],
   "source": [
    "%%sql\n",
    "\n",
    "DESCRIBE TABLE demo.iris_hep;"
   ]
  },
  {
   "cell_type": "markdown",
   "id": "6c92e8aa",
   "metadata": {},
   "source": [
    "Now we add a new column to the table `mycol` of type `double`."
   ]
  },
  {
   "cell_type": "code",
   "execution_count": 167,
   "id": "e632f595",
   "metadata": {},
   "outputs": [
    {
     "data": {
      "text/html": [
       "<table>\n",
       "    <thead>\n",
       "        <tr>\n",
       "        </tr>\n",
       "    </thead>\n",
       "    <tbody>\n",
       "    </tbody>\n",
       "</table>"
      ],
      "text/plain": [
       "++\n",
       "||\n",
       "++\n",
       "++"
      ]
     },
     "execution_count": 167,
     "metadata": {},
     "output_type": "execute_result"
    }
   ],
   "source": [
    "%%sql\n",
    "\n",
    "ALTER TABLE demo.iris_hep ADD COLUMN mycol double;"
   ]
  },
  {
   "cell_type": "markdown",
   "id": "7ff28505",
   "metadata": {},
   "source": [
    "We check the schema again."
   ]
  },
  {
   "cell_type": "code",
   "execution_count": 168,
   "id": "068b012c",
   "metadata": {
    "scrolled": false
   },
   "outputs": [
    {
     "data": {
      "text/html": [
       "<table>\n",
       "    <thead>\n",
       "        <tr>\n",
       "            <th>col_name</th>\n",
       "            <th>data_type</th>\n",
       "            <th>comment</th>\n",
       "        </tr>\n",
       "    </thead>\n",
       "    <tbody>\n",
       "        <tr>\n",
       "            <td>run</td>\n",
       "            <td>int</td>\n",
       "            <td></td>\n",
       "        </tr>\n",
       "        <tr>\n",
       "            <td>luminosityBlock</td>\n",
       "            <td>bigint</td>\n",
       "            <td></td>\n",
       "        </tr>\n",
       "        <tr>\n",
       "            <td>event</td>\n",
       "            <td>bigint</td>\n",
       "            <td></td>\n",
       "        </tr>\n",
       "        <tr>\n",
       "            <td>MET</td>\n",
       "            <td>struct&lt;pt:float,phi:float,sumet:float,significance:float,CovXX:float,CovXY:float,CovYY:float&gt;</td>\n",
       "            <td></td>\n",
       "        </tr>\n",
       "        <tr>\n",
       "            <td>HLT</td>\n",
       "            <td>struct&lt;IsoMu24_eta2p1:boolean,IsoMu24:boolean,IsoMu17_eta2p1_LooseIsoPFTau20:boolean&gt;</td>\n",
       "            <td></td>\n",
       "        </tr>\n",
       "        <tr>\n",
       "            <td>PV</td>\n",
       "            <td>struct&lt;npvs:int,x:float,y:float,z:float&gt;</td>\n",
       "            <td></td>\n",
       "        </tr>\n",
       "        <tr>\n",
       "            <td>Muon</td>\n",
       "            <td>array&lt;struct&lt;pt:float,eta:float,phi:float,mass:float,charge:int,pfRelIso03_all:float,pfRelIso04_all:float,tightId:boolean,softId:boolean,dxy:float,dxyErr:float,dz:float,dzErr:float,jetIdx:int,genPartIdx:int&gt;&gt;</td>\n",
       "            <td></td>\n",
       "        </tr>\n",
       "        <tr>\n",
       "            <td>Electron</td>\n",
       "            <td>array&lt;struct&lt;pt:float,eta:float,phi:float,mass:float,charge:int,pfRelIso03_all:float,dxy:float,dxyErr:float,dz:float,dzErr:float,cutBasedId:boolean,pfId:boolean,jetIdx:int,genPartIdx:int&gt;&gt;</td>\n",
       "            <td></td>\n",
       "        </tr>\n",
       "        <tr>\n",
       "            <td>Photon</td>\n",
       "            <td>array&lt;struct&lt;pt:float,eta:float,phi:float,mass:float,charge:int,pfRelIso03_all:float,jetIdx:int,genPartIdx:int&gt;&gt;</td>\n",
       "            <td></td>\n",
       "        </tr>\n",
       "        <tr>\n",
       "            <td>Jet</td>\n",
       "            <td>array&lt;struct&lt;pt:float,eta:float,phi:float,mass:float,puId:boolean,btag:float&gt;&gt;</td>\n",
       "            <td></td>\n",
       "        </tr>\n",
       "        <tr>\n",
       "            <td>Tau</td>\n",
       "            <td>array&lt;struct&lt;pt:float,eta:float,phi:float,mass:float,charge:int,decayMode:int,relIso_all:float,jetIdx:int,genPartIdx:int,idDecayMode:boolean,idIsoRaw:float,idIsoVLoose:boolean,idIsoLoose:boolean,idIsoMedium:boolean,idIsoTight:boolean,idAntiEleLoose:boolean,idAntiEleMedium:boolean,idAntiEleTight:boolean,idAntiMuLoose:boolean,idAntiMuMedium:boolean,idAntiMuTight:boolean&gt;&gt;</td>\n",
       "            <td></td>\n",
       "        </tr>\n",
       "        <tr>\n",
       "            <td>mycol</td>\n",
       "            <td>double</td>\n",
       "            <td></td>\n",
       "        </tr>\n",
       "        <tr>\n",
       "            <td></td>\n",
       "            <td></td>\n",
       "            <td></td>\n",
       "        </tr>\n",
       "        <tr>\n",
       "            <td># Partitioning</td>\n",
       "            <td></td>\n",
       "            <td></td>\n",
       "        </tr>\n",
       "        <tr>\n",
       "            <td>Not partitioned</td>\n",
       "            <td></td>\n",
       "            <td></td>\n",
       "        </tr>\n",
       "    </tbody>\n",
       "</table>"
      ],
      "text/plain": [
       "+-----------------+--------------------------------------------------------------------------------------------------------------------------------------------------------------------------------------------------------------------------------------------------------------------------------------------------------------------------------------------------------------------------------------+---------+\n",
       "|        col_name |                                                                                                                                                                                                                                                                                                                                                                            data_type | comment |\n",
       "+-----------------+--------------------------------------------------------------------------------------------------------------------------------------------------------------------------------------------------------------------------------------------------------------------------------------------------------------------------------------------------------------------------------------+---------+\n",
       "|             run |                                                                                                                                                                                                                                                                                                                                                                                  int |         |\n",
       "| luminosityBlock |                                                                                                                                                                                                                                                                                                                                                                               bigint |         |\n",
       "|           event |                                                                                                                                                                                                                                                                                                                                                                               bigint |         |\n",
       "|             MET |                                                                                                                                                                                                                                                                                        struct<pt:float,phi:float,sumet:float,significance:float,CovXX:float,CovXY:float,CovYY:float> |         |\n",
       "|             HLT |                                                                                                                                                                                                                                                                                                struct<IsoMu24_eta2p1:boolean,IsoMu24:boolean,IsoMu17_eta2p1_LooseIsoPFTau20:boolean> |         |\n",
       "|              PV |                                                                                                                                                                                                                                                                                                                                             struct<npvs:int,x:float,y:float,z:float> |         |\n",
       "|            Muon |                                                                                                                                                                     array<struct<pt:float,eta:float,phi:float,mass:float,charge:int,pfRelIso03_all:float,pfRelIso04_all:float,tightId:boolean,softId:boolean,dxy:float,dxyErr:float,dz:float,dzErr:float,jetIdx:int,genPartIdx:int>> |         |\n",
       "|        Electron |                                                                                                                                                                                         array<struct<pt:float,eta:float,phi:float,mass:float,charge:int,pfRelIso03_all:float,dxy:float,dxyErr:float,dz:float,dzErr:float,cutBasedId:boolean,pfId:boolean,jetIdx:int,genPartIdx:int>> |         |\n",
       "|          Photon |                                                                                                                                                                                                                                                                     array<struct<pt:float,eta:float,phi:float,mass:float,charge:int,pfRelIso03_all:float,jetIdx:int,genPartIdx:int>> |         |\n",
       "|             Jet |                                                                                                                                                                                                                                                                                                       array<struct<pt:float,eta:float,phi:float,mass:float,puId:boolean,btag:float>> |         |\n",
       "|             Tau | array<struct<pt:float,eta:float,phi:float,mass:float,charge:int,decayMode:int,relIso_all:float,jetIdx:int,genPartIdx:int,idDecayMode:boolean,idIsoRaw:float,idIsoVLoose:boolean,idIsoLoose:boolean,idIsoMedium:boolean,idIsoTight:boolean,idAntiEleLoose:boolean,idAntiEleMedium:boolean,idAntiEleTight:boolean,idAntiMuLoose:boolean,idAntiMuMedium:boolean,idAntiMuTight:boolean>> |         |\n",
       "|           mycol |                                                                                                                                                                                                                                                                                                                                                                               double |         |\n",
       "|                 |                                                                                                                                                                                                                                                                                                                                                                                      |         |\n",
       "|  # Partitioning |                                                                                                                                                                                                                                                                                                                                                                                      |         |\n",
       "| Not partitioned |                                                                                                                                                                                                                                                                                                                                                                                      |         |\n",
       "+-----------------+--------------------------------------------------------------------------------------------------------------------------------------------------------------------------------------------------------------------------------------------------------------------------------------------------------------------------------------------------------------------------------------+---------+"
      ]
     },
     "execution_count": 168,
     "metadata": {},
     "output_type": "execute_result"
    }
   ],
   "source": [
    "%%sql\n",
    "\n",
    "DESCRIBE TABLE demo.iris_hep;"
   ]
  },
  {
   "cell_type": "markdown",
   "id": "7a5ce1d8",
   "metadata": {},
   "source": [
    "Since, evolving schema is just a metadata operation, no snapshot is created. We still have the only parent snapshot that we had from the start."
   ]
  },
  {
   "cell_type": "code",
   "execution_count": 169,
   "id": "ce3692c2",
   "metadata": {},
   "outputs": [
    {
     "data": {
      "text/html": [
       "<table>\n",
       "    <thead>\n",
       "        <tr>\n",
       "            <th>snapshot_id</th>\n",
       "            <th>manifest_list</th>\n",
       "        </tr>\n",
       "    </thead>\n",
       "    <tbody>\n",
       "        <tr>\n",
       "            <td>4553086720717858461</td>\n",
       "            <td>warehouse/iris_hep/metadata/snap-4553086720717858461-1-dc806fc5-1836-43cb-abc3-42ff202e79a9.avro</td>\n",
       "        </tr>\n",
       "    </tbody>\n",
       "</table>"
      ],
      "text/plain": [
       "+---------------------+--------------------------------------------------------------------------------------------------+\n",
       "|         snapshot_id |                                                                                    manifest_list |\n",
       "+---------------------+--------------------------------------------------------------------------------------------------+\n",
       "| 4553086720717858461 | warehouse/iris_hep/metadata/snap-4553086720717858461-1-dc806fc5-1836-43cb-abc3-42ff202e79a9.avro |\n",
       "+---------------------+--------------------------------------------------------------------------------------------------+"
      ]
     },
     "execution_count": 169,
     "metadata": {},
     "output_type": "execute_result"
    }
   ],
   "source": [
    "%%sql\n",
    "\n",
    "SELECT snapshot_id, manifest_list FROM demo.iris_hep.snapshots;"
   ]
  },
  {
   "cell_type": "markdown",
   "id": "b8b7fd3b",
   "metadata": {},
   "source": [
    "We have the new column `mycol` in place. No data files have been modified."
   ]
  },
  {
   "cell_type": "code",
   "execution_count": 170,
   "id": "1f0b2221",
   "metadata": {},
   "outputs": [
    {
     "data": {
      "text/html": [
       "<table>\n",
       "    <thead>\n",
       "        <tr>\n",
       "            <th>run</th>\n",
       "            <th>event</th>\n",
       "            <th>mycol</th>\n",
       "        </tr>\n",
       "    </thead>\n",
       "    <tbody>\n",
       "        <tr>\n",
       "            <td>194711</td>\n",
       "            <td>263142897</td>\n",
       "            <td>None</td>\n",
       "        </tr>\n",
       "        <tr>\n",
       "            <td>194711</td>\n",
       "            <td>263176076</td>\n",
       "            <td>None</td>\n",
       "        </tr>\n",
       "        <tr>\n",
       "            <td>194711</td>\n",
       "            <td>263180946</td>\n",
       "            <td>None</td>\n",
       "        </tr>\n",
       "        <tr>\n",
       "            <td>194711</td>\n",
       "            <td>263197228</td>\n",
       "            <td>None</td>\n",
       "        </tr>\n",
       "        <tr>\n",
       "            <td>194711</td>\n",
       "            <td>263232293</td>\n",
       "            <td>None</td>\n",
       "        </tr>\n",
       "    </tbody>\n",
       "</table>"
      ],
      "text/plain": [
       "+--------+-----------+-------+\n",
       "|    run |     event | mycol |\n",
       "+--------+-----------+-------+\n",
       "| 194711 | 263142897 |  None |\n",
       "| 194711 | 263176076 |  None |\n",
       "| 194711 | 263180946 |  None |\n",
       "| 194711 | 263197228 |  None |\n",
       "| 194711 | 263232293 |  None |\n",
       "+--------+-----------+-------+"
      ]
     },
     "execution_count": 170,
     "metadata": {},
     "output_type": "execute_result"
    }
   ],
   "source": [
    "%%sql \n",
    "\n",
    "SELECT run, event, mycol from demo.iris_hep LIMIT 5;"
   ]
  },
  {
   "cell_type": "markdown",
   "id": "73699fa0",
   "metadata": {},
   "source": [
    "## Snapshots\n",
    "\n",
    "Snapshots are created only when the data of the table changes."
   ]
  },
  {
   "cell_type": "code",
   "execution_count": 171,
   "id": "e535c03d",
   "metadata": {},
   "outputs": [
    {
     "data": {
      "text/html": [
       "<table>\n",
       "    <thead>\n",
       "        <tr>\n",
       "        </tr>\n",
       "    </thead>\n",
       "    <tbody>\n",
       "    </tbody>\n",
       "</table>"
      ],
      "text/plain": [
       "++\n",
       "||\n",
       "++\n",
       "++"
      ]
     },
     "execution_count": 171,
     "metadata": {},
     "output_type": "execute_result"
    }
   ],
   "source": [
    "%%sql\n",
    "\n",
    "UPDATE demo.iris_hep SET run = run * 2;"
   ]
  },
  {
   "cell_type": "markdown",
   "id": "709ee321",
   "metadata": {},
   "source": [
    "Since, we updated the data, a new snapshot is created."
   ]
  },
  {
   "cell_type": "code",
   "execution_count": 172,
   "id": "38646241",
   "metadata": {},
   "outputs": [
    {
     "data": {
      "text/html": [
       "<table>\n",
       "    <thead>\n",
       "        <tr>\n",
       "            <th>snapshot_id</th>\n",
       "            <th>manifest_list</th>\n",
       "        </tr>\n",
       "    </thead>\n",
       "    <tbody>\n",
       "        <tr>\n",
       "            <td>4553086720717858461</td>\n",
       "            <td>warehouse/iris_hep/metadata/snap-4553086720717858461-1-dc806fc5-1836-43cb-abc3-42ff202e79a9.avro</td>\n",
       "        </tr>\n",
       "        <tr>\n",
       "            <td>8370068912865699136</td>\n",
       "            <td>warehouse/iris_hep/metadata/snap-8370068912865699136-1-ef44eccb-9614-438d-87eb-1943393b64fc.avro</td>\n",
       "        </tr>\n",
       "    </tbody>\n",
       "</table>"
      ],
      "text/plain": [
       "+---------------------+--------------------------------------------------------------------------------------------------+\n",
       "|         snapshot_id |                                                                                    manifest_list |\n",
       "+---------------------+--------------------------------------------------------------------------------------------------+\n",
       "| 4553086720717858461 | warehouse/iris_hep/metadata/snap-4553086720717858461-1-dc806fc5-1836-43cb-abc3-42ff202e79a9.avro |\n",
       "| 8370068912865699136 | warehouse/iris_hep/metadata/snap-8370068912865699136-1-ef44eccb-9614-438d-87eb-1943393b64fc.avro |\n",
       "+---------------------+--------------------------------------------------------------------------------------------------+"
      ]
     },
     "execution_count": 172,
     "metadata": {},
     "output_type": "execute_result"
    }
   ],
   "source": [
    "%%sql\n",
    "\n",
    "SELECT snapshot_id, manifest_list FROM demo.iris_hep.snapshots"
   ]
  },
  {
   "cell_type": "markdown",
   "id": "11370a8f",
   "metadata": {},
   "source": [
    "Let's do a couple of more updates to the table"
   ]
  },
  {
   "cell_type": "code",
   "execution_count": 173,
   "id": "09aa5e46",
   "metadata": {},
   "outputs": [
    {
     "data": {
      "text/html": [
       "<table>\n",
       "    <thead>\n",
       "        <tr>\n",
       "        </tr>\n",
       "    </thead>\n",
       "    <tbody>\n",
       "    </tbody>\n",
       "</table>"
      ],
      "text/plain": [
       "++\n",
       "||\n",
       "++\n",
       "++"
      ]
     },
     "execution_count": 173,
     "metadata": {},
     "output_type": "execute_result"
    }
   ],
   "source": [
    "%%sql\n",
    "\n",
    "UPDATE demo.iris_hep SET event = event + 1;"
   ]
  },
  {
   "cell_type": "markdown",
   "id": "723190c4",
   "metadata": {},
   "source": [
    "Here is a snippet of the updated version of the table."
   ]
  },
  {
   "cell_type": "code",
   "execution_count": 174,
   "id": "701756d6",
   "metadata": {},
   "outputs": [
    {
     "data": {
      "text/html": [
       "<table>\n",
       "    <thead>\n",
       "        <tr>\n",
       "            <th>run</th>\n",
       "            <th>event</th>\n",
       "        </tr>\n",
       "    </thead>\n",
       "    <tbody>\n",
       "        <tr>\n",
       "            <td>389422</td>\n",
       "            <td>263142898</td>\n",
       "        </tr>\n",
       "        <tr>\n",
       "            <td>389422</td>\n",
       "            <td>263176077</td>\n",
       "        </tr>\n",
       "        <tr>\n",
       "            <td>389422</td>\n",
       "            <td>263180947</td>\n",
       "        </tr>\n",
       "        <tr>\n",
       "            <td>389422</td>\n",
       "            <td>263197229</td>\n",
       "        </tr>\n",
       "        <tr>\n",
       "            <td>389422</td>\n",
       "            <td>263232294</td>\n",
       "        </tr>\n",
       "    </tbody>\n",
       "</table>"
      ],
      "text/plain": [
       "+--------+-----------+\n",
       "|    run |     event |\n",
       "+--------+-----------+\n",
       "| 389422 | 263142898 |\n",
       "| 389422 | 263176077 |\n",
       "| 389422 | 263180947 |\n",
       "| 389422 | 263197229 |\n",
       "| 389422 | 263232294 |\n",
       "+--------+-----------+"
      ]
     },
     "execution_count": 174,
     "metadata": {},
     "output_type": "execute_result"
    }
   ],
   "source": [
    "%%sql\n",
    "\n",
    "SELECT run, event FROM demo.iris_hep LIMIT 5;"
   ]
  },
  {
   "cell_type": "markdown",
   "id": "9d042ae5",
   "metadata": {},
   "source": [
    "## Time Travel and Rollback\n",
    "\n",
    "Iceberg allows switching between different versions as it stores snapshots of data and metadata of every new version of the table. Here, we first look at the version history of the table."
   ]
  },
  {
   "cell_type": "code",
   "execution_count": 175,
   "id": "5bc2a70f",
   "metadata": {},
   "outputs": [
    {
     "data": {
      "text/html": [
       "<div>\n",
       "<style scoped>\n",
       "    .dataframe tbody tr th:only-of-type {\n",
       "        vertical-align: middle;\n",
       "    }\n",
       "\n",
       "    .dataframe tbody tr th {\n",
       "        vertical-align: top;\n",
       "    }\n",
       "\n",
       "    .dataframe thead th {\n",
       "        text-align: right;\n",
       "    }\n",
       "</style>\n",
       "<table border=\"1\" class=\"dataframe\">\n",
       "  <thead>\n",
       "    <tr style=\"text-align: right;\">\n",
       "      <th></th>\n",
       "      <th>made_current_at</th>\n",
       "      <th>snapshot_id</th>\n",
       "      <th>parent_id</th>\n",
       "      <th>is_current_ancestor</th>\n",
       "    </tr>\n",
       "  </thead>\n",
       "  <tbody>\n",
       "    <tr>\n",
       "      <th>0</th>\n",
       "      <td>2022-12-16 04:33:53.542</td>\n",
       "      <td>4553086720717858461</td>\n",
       "      <td>NaN</td>\n",
       "      <td>True</td>\n",
       "    </tr>\n",
       "    <tr>\n",
       "      <th>1</th>\n",
       "      <td>2022-12-16 04:35:05.836</td>\n",
       "      <td>8370068912865699136</td>\n",
       "      <td>4.553087e+18</td>\n",
       "      <td>True</td>\n",
       "    </tr>\n",
       "    <tr>\n",
       "      <th>2</th>\n",
       "      <td>2022-12-16 04:35:16.053</td>\n",
       "      <td>2508631590115946818</td>\n",
       "      <td>8.370069e+18</td>\n",
       "      <td>True</td>\n",
       "    </tr>\n",
       "  </tbody>\n",
       "</table>\n",
       "</div>"
      ],
      "text/plain": [
       "          made_current_at          snapshot_id     parent_id  \\\n",
       "0 2022-12-16 04:33:53.542  4553086720717858461           NaN   \n",
       "1 2022-12-16 04:35:05.836  8370068912865699136  4.553087e+18   \n",
       "2 2022-12-16 04:35:16.053  2508631590115946818  8.370069e+18   \n",
       "\n",
       "   is_current_ancestor  \n",
       "0                 True  \n",
       "1                 True  \n",
       "2                 True  "
      ]
     },
     "execution_count": 175,
     "metadata": {},
     "output_type": "execute_result"
    }
   ],
   "source": [
    "df = spark.sql('SELECT * FROM demo.iris_hep.history')\n",
    "df.toPandas()"
   ]
  },
  {
   "cell_type": "markdown",
   "id": "78d8dca1",
   "metadata": {},
   "source": [
    "Now, we roll back the table to the first version."
   ]
  },
  {
   "cell_type": "code",
   "execution_count": 176,
   "id": "2fcc2db0",
   "metadata": {},
   "outputs": [
    {
     "data": {
      "text/plain": [
       "DataFrame[previous_snapshot_id: bigint, current_snapshot_id: bigint]"
      ]
     },
     "execution_count": 176,
     "metadata": {},
     "output_type": "execute_result"
    }
   ],
   "source": [
    "spark.sql(f\"CALL demo.system.rollback_to_snapshot('iris_hep', {df.head().snapshot_id})\")"
   ]
  },
  {
   "cell_type": "markdown",
   "id": "bb56b9ad",
   "metadata": {},
   "source": [
    "We have the initial version of the table."
   ]
  },
  {
   "cell_type": "code",
   "execution_count": 239,
   "id": "6e0b60c6",
   "metadata": {
    "scrolled": true
   },
   "outputs": [
    {
     "data": {
      "text/html": [
       "<table>\n",
       "    <thead>\n",
       "        <tr>\n",
       "            <th>run</th>\n",
       "            <th>event</th>\n",
       "        </tr>\n",
       "    </thead>\n",
       "    <tbody>\n",
       "        <tr>\n",
       "            <td>195916</td>\n",
       "            <td>62359790</td>\n",
       "        </tr>\n",
       "        <tr>\n",
       "            <td>195916</td>\n",
       "            <td>62361579</td>\n",
       "        </tr>\n",
       "        <tr>\n",
       "            <td>195916</td>\n",
       "            <td>62362173</td>\n",
       "        </tr>\n",
       "    </tbody>\n",
       "</table>"
      ],
      "text/plain": [
       "+--------+----------+\n",
       "|    run |    event |\n",
       "+--------+----------+\n",
       "| 195916 | 62359790 |\n",
       "| 195916 | 62361579 |\n",
       "| 195916 | 62362173 |\n",
       "+--------+----------+"
      ]
     },
     "execution_count": 239,
     "metadata": {},
     "output_type": "execute_result"
    }
   ],
   "source": [
    "%%sql \n",
    "\n",
    "SELECT run, event FROM demo.iris_hep WHERE LIMIT 5;"
   ]
  },
  {
   "cell_type": "markdown",
   "id": "b73b490f",
   "metadata": {},
   "source": [
    "Although, we have rolled back to the initial version, we can still travel in time to use any version of the table we want."
   ]
  },
  {
   "cell_type": "code",
   "execution_count": 179,
   "id": "4cfdaffc",
   "metadata": {
    "scrolled": true
   },
   "outputs": [
    {
     "data": {
      "text/html": [
       "<table>\n",
       "    <thead>\n",
       "        <tr>\n",
       "            <th>run</th>\n",
       "            <th>event</th>\n",
       "        </tr>\n",
       "    </thead>\n",
       "    <tbody>\n",
       "        <tr>\n",
       "            <td>389422</td>\n",
       "            <td>263142897</td>\n",
       "        </tr>\n",
       "        <tr>\n",
       "            <td>389422</td>\n",
       "            <td>263176076</td>\n",
       "        </tr>\n",
       "        <tr>\n",
       "            <td>389422</td>\n",
       "            <td>263180946</td>\n",
       "        </tr>\n",
       "        <tr>\n",
       "            <td>389422</td>\n",
       "            <td>263197228</td>\n",
       "        </tr>\n",
       "        <tr>\n",
       "            <td>389422</td>\n",
       "            <td>263232293</td>\n",
       "        </tr>\n",
       "    </tbody>\n",
       "</table>"
      ],
      "text/plain": [
       "+--------+-----------+\n",
       "|    run |     event |\n",
       "+--------+-----------+\n",
       "| 389422 | 263142897 |\n",
       "| 389422 | 263176076 |\n",
       "| 389422 | 263180946 |\n",
       "| 389422 | 263197228 |\n",
       "| 389422 | 263232293 |\n",
       "+--------+-----------+"
      ]
     },
     "execution_count": 179,
     "metadata": {},
     "output_type": "execute_result"
    }
   ],
   "source": [
    "%%sql \n",
    "\n",
    "SELECT run, event FROM demo.iris_hep VERSION AS OF 8370068912865699136 WHERE LIMIT 5;"
   ]
  },
  {
   "cell_type": "markdown",
   "id": "ccc8c16d",
   "metadata": {},
   "source": [
    "## Running ADL benchmark queries on Iceberg"
   ]
  },
  {
   "cell_type": "markdown",
   "id": "cd27065b",
   "metadata": {},
   "source": [
    "### Query 1"
   ]
  },
  {
   "cell_type": "code",
   "execution_count": 180,
   "id": "53611e1b",
   "metadata": {},
   "outputs": [
    {
     "data": {
      "text/html": [
       "<table>\n",
       "    <thead>\n",
       "        <tr>\n",
       "            <th>x</th>\n",
       "            <th>y</th>\n",
       "        </tr>\n",
       "    </thead>\n",
       "    <tbody>\n",
       "        <tr>\n",
       "            <td>10</td>\n",
       "            <td>346</td>\n",
       "        </tr>\n",
       "        <tr>\n",
       "            <td>30</td>\n",
       "            <td>427</td>\n",
       "        </tr>\n",
       "        <tr>\n",
       "            <td>50</td>\n",
       "            <td>196</td>\n",
       "        </tr>\n",
       "        <tr>\n",
       "            <td>70</td>\n",
       "            <td>25</td>\n",
       "        </tr>\n",
       "        <tr>\n",
       "            <td>90</td>\n",
       "            <td>1</td>\n",
       "        </tr>\n",
       "        <tr>\n",
       "            <td>110</td>\n",
       "            <td>4</td>\n",
       "        </tr>\n",
       "        <tr>\n",
       "            <td>130</td>\n",
       "            <td>1</td>\n",
       "        </tr>\n",
       "    </tbody>\n",
       "</table>"
      ],
      "text/plain": [
       "+-----+-----+\n",
       "|   x |   y |\n",
       "+-----+-----+\n",
       "|  10 | 346 |\n",
       "|  30 | 427 |\n",
       "|  50 | 196 |\n",
       "|  70 |  25 |\n",
       "|  90 |   1 |\n",
       "| 110 |   4 |\n",
       "| 130 |   1 |\n",
       "+-----+-----+"
      ]
     },
     "execution_count": 180,
     "metadata": {},
     "output_type": "execute_result"
    }
   ],
   "source": [
    "%%sql\n",
    "\n",
    "SELECT\n",
    "  FLOOR((\n",
    "    CASE\n",
    "      WHEN MET.pt < 0 THEN -1\n",
    "      WHEN MET.pt > 2000 THEN 2001\n",
    "      ELSE MET.pt\n",
    "    END) / 20) * 20 + 10 AS x,\n",
    "  COUNT(*) AS y\n",
    "FROM demo.iris_hep\n",
    "GROUP BY FLOOR((\n",
    "    CASE\n",
    "      WHEN MET.pt < 0 THEN -1\n",
    "      WHEN MET.pt > 2000 THEN 2001\n",
    "      ELSE MET.pt\n",
    "    END) / 20) * 20 + 10\n",
    "ORDER BY x;"
   ]
  },
  {
   "cell_type": "markdown",
   "id": "9e26d3e3",
   "metadata": {},
   "source": [
    "### Query 8"
   ]
  },
  {
   "cell_type": "code",
   "execution_count": 181,
   "id": "5a2132f2",
   "metadata": {},
   "outputs": [
    {
     "name": "stdout",
     "output_type": "stream",
     "text": [
      "22/12/16 04:35:58 WARN CharVarcharUtils: The Spark cast operator does not support char/varchar type and simply treats them as string type. Please use string type directly to avoid confusion. Otherwise, you can set spark.sql.legacy.charVarcharAsString to true, so that Spark treat them as string type as same as Spark 3.0 and earlier\n",
      "22/12/16 04:35:58 WARN CharVarcharUtils: The Spark cast operator does not support char/varchar type and simply treats them as string type. Please use string type directly to avoid confusion. Otherwise, you can set spark.sql.legacy.charVarcharAsString to true, so that Spark treat them as string type as same as Spark 3.0 and earlier\n"
     ]
    },
    {
     "data": {
      "text/html": [
       "<table>\n",
       "    <thead>\n",
       "        <tr>\n",
       "            <th>x</th>\n",
       "            <th>y</th>\n",
       "        </tr>\n",
       "    </thead>\n",
       "    <tbody>\n",
       "        <tr>\n",
       "            <td>13.825</td>\n",
       "            <td>30</td>\n",
       "        </tr>\n",
       "        <tr>\n",
       "            <td>16.175</td>\n",
       "            <td>2</td>\n",
       "        </tr>\n",
       "        <tr>\n",
       "            <td>18.525</td>\n",
       "            <td>2</td>\n",
       "        </tr>\n",
       "        <tr>\n",
       "            <td>20.875</td>\n",
       "            <td>3</td>\n",
       "        </tr>\n",
       "        <tr>\n",
       "            <td>23.225</td>\n",
       "            <td>4</td>\n",
       "        </tr>\n",
       "        <tr>\n",
       "            <td>25.575</td>\n",
       "            <td>2</td>\n",
       "        </tr>\n",
       "        <tr>\n",
       "            <td>27.925</td>\n",
       "            <td>2</td>\n",
       "        </tr>\n",
       "        <tr>\n",
       "            <td>30.275</td>\n",
       "            <td>2</td>\n",
       "        </tr>\n",
       "        <tr>\n",
       "            <td>32.625</td>\n",
       "            <td>1</td>\n",
       "        </tr>\n",
       "        <tr>\n",
       "            <td>34.975</td>\n",
       "            <td>5</td>\n",
       "        </tr>\n",
       "        <tr>\n",
       "            <td>37.325</td>\n",
       "            <td>2</td>\n",
       "        </tr>\n",
       "        <tr>\n",
       "            <td>39.675</td>\n",
       "            <td>3</td>\n",
       "        </tr>\n",
       "        <tr>\n",
       "            <td>42.025</td>\n",
       "            <td>1</td>\n",
       "        </tr>\n",
       "        <tr>\n",
       "            <td>44.375</td>\n",
       "            <td>1</td>\n",
       "        </tr>\n",
       "        <tr>\n",
       "            <td>46.725</td>\n",
       "            <td>1</td>\n",
       "        </tr>\n",
       "        <tr>\n",
       "            <td>49.075</td>\n",
       "            <td>3</td>\n",
       "        </tr>\n",
       "        <tr>\n",
       "            <td>51.425</td>\n",
       "            <td>2</td>\n",
       "        </tr>\n",
       "        <tr>\n",
       "            <td>53.775</td>\n",
       "            <td>1</td>\n",
       "        </tr>\n",
       "        <tr>\n",
       "            <td>60.825</td>\n",
       "            <td>1</td>\n",
       "        </tr>\n",
       "        <tr>\n",
       "            <td>91.375</td>\n",
       "            <td>1</td>\n",
       "        </tr>\n",
       "        <tr>\n",
       "            <td>93.725</td>\n",
       "            <td>1</td>\n",
       "        </tr>\n",
       "        <tr>\n",
       "            <td>96.075</td>\n",
       "            <td>1</td>\n",
       "        </tr>\n",
       "        <tr>\n",
       "            <td>100.775</td>\n",
       "            <td>1</td>\n",
       "        </tr>\n",
       "        <tr>\n",
       "            <td>138.375</td>\n",
       "            <td>1</td>\n",
       "        </tr>\n",
       "    </tbody>\n",
       "</table>"
      ],
      "text/plain": [
       "+---------+----+\n",
       "|       x |  y |\n",
       "+---------+----+\n",
       "|  13.825 | 30 |\n",
       "|  16.175 |  2 |\n",
       "|  18.525 |  2 |\n",
       "|  20.875 |  3 |\n",
       "|  23.225 |  4 |\n",
       "|  25.575 |  2 |\n",
       "|  27.925 |  2 |\n",
       "|  30.275 |  2 |\n",
       "|  32.625 |  1 |\n",
       "|  34.975 |  5 |\n",
       "|  37.325 |  2 |\n",
       "|  39.675 |  3 |\n",
       "|  42.025 |  1 |\n",
       "|  44.375 |  1 |\n",
       "|  46.725 |  1 |\n",
       "|  49.075 |  3 |\n",
       "|  51.425 |  2 |\n",
       "|  53.775 |  1 |\n",
       "|  60.825 |  1 |\n",
       "|  91.375 |  1 |\n",
       "|  93.725 |  1 |\n",
       "|  96.075 |  1 |\n",
       "| 100.775 |  1 |\n",
       "| 138.375 |  1 |\n",
       "+---------+----+"
      ]
     },
     "execution_count": 181,
     "metadata": {},
     "output_type": "execute_result"
    }
   ],
   "source": [
    "%%sql\n",
    "\n",
    "-- Make the structure of Electrons and Muons uniform, and then union their arrays\n",
    "WITH uniform_structure_leptons AS (\n",
    "  SELECT\n",
    "    event,\n",
    "    MET,\n",
    "    array_union(\n",
    "      transform(\n",
    "        COALESCE(Muon, ARRAY()),\n",
    "        x -> CAST( STRUCT(x.pt, x.eta, x.phi, x.mass, x.charge, 'm') AS STRUCT<pt: FLOAT, eta: FLOAT, phi: FLOAT, mass: FLOAT, charge: INT, type: CHAR(256)> )\n",
    "      ),\n",
    "      transform(\n",
    "        COALESCE(Electron, ARRAY()),\n",
    "        x -> CAST( STRUCT(x.pt, x.eta, x.phi, x.mass, x.charge, 'e') AS STRUCT<pt: FLOAT, eta: FLOAT, phi: FLOAT, mass: FLOAT, charge: INT, type: CHAR(256)> )\n",
    "      )\n",
    "    ) AS Leptons\n",
    "  FROM demo.iris_hep\n",
    "  WHERE cardinality(Muon) + cardinality(Electron) > 2\n",
    "),\n",
    "\n",
    "\n",
    "-- Create the Lepton pairs, transform the leptons using PtEtaPhiM2PxPyPzE and then sum the transformed leptons\n",
    "lepton_pairs AS (\n",
    "  SELECT\n",
    "    *,\n",
    "    CAST(\n",
    "      STRUCT(\n",
    "        l1.pt * cos(l1.phi) + l2.pt * cos(l2.phi),\n",
    "        l1.pt * sin(l1.phi) + l2.pt * sin(l2.phi),\n",
    "        l1.pt * ( ( exp(l1.eta) - exp(-l1.eta) ) / 2.0 ) + l2.pt * ( ( exp(l2.eta) - exp(-l2.eta) ) / 2.0 ),\n",
    "        sqrt(l1.pt * cosh(l1.eta) * l1.pt * cosh(l1.eta) + l1.mass * l1.mass) + sqrt(l2.pt * cosh(l2.eta) * l2.pt * cosh(l2.eta) + l2.mass * l2.mass)\n",
    "      ) AS\n",
    "      STRUCT <x: REAL, y: REAL, z: REAL, e: REAL>\n",
    "    ) AS l,\n",
    "    idx1 AS l1_idx,\n",
    "    idx2 AS l2_idx\n",
    "  FROM uniform_structure_leptons\n",
    "  LATERAL VIEW POSEXPLODE(Leptons) AS idx1,l1\n",
    "  LATERAL VIEW POSEXPLODE(Leptons) AS idx2,l2\n",
    "  WHERE idx1 < idx2 AND l1.type = l2.type AND l1.charge != l2.charge\n",
    "),\n",
    "\n",
    "\n",
    "-- Apply the PtEtaPhiM2PxPyPzE transformation on the particle pairs, then retrieve the one with the mass closest to 91.2 for each event\n",
    "processed_pairs AS (\n",
    "  SELECT\n",
    "    event,\n",
    "    min_by(\n",
    "      STRUCT(\n",
    "        l1_idx,\n",
    "        l2_idx,\n",
    "        Leptons,\n",
    "        MET.pt,\n",
    "        MET.phi\n",
    "      ),\n",
    "      abs(91.2 - sqrt(l.e * l.e - l.x * l.x - l.y * l.y - l.z * l.z))\n",
    "    ) AS system\n",
    "  FROM lepton_pairs\n",
    "  GROUP BY event\n",
    "),\n",
    "\n",
    "\n",
    "-- For each event get the max pt of the other leptons\n",
    "other_max_pt AS (\n",
    "  SELECT event, CAST(max_by(sqrt(2 * system.pt * l.pt * (1.0 - cos((system.phi- l.phi + pi()) % (2 * pi()) - pi()))), l.pt) AS REAL) AS pt\n",
    "  FROM processed_pairs\n",
    "  LATERAL VIEW POSEXPLODE(system.Leptons) AS idx,l\n",
    "  WHERE idx != system.l1_idx AND idx != system.l2_idx\n",
    "  GROUP BY event\n",
    ")\n",
    "\n",
    "\n",
    "-- Compute the histogram\n",
    "SELECT\n",
    "  FLOOR((\n",
    "    CASE\n",
    "      WHEN pt < 15 THEN 14.99\n",
    "      WHEN pt > 250 THEN 250.1\n",
    "      ELSE pt\n",
    "    END - 0.9) / 2.35) * 2.35 + 2.075 AS x,\n",
    "  COUNT(*) AS y\n",
    "FROM other_max_pt\n",
    "GROUP BY FLOOR((\n",
    "    CASE\n",
    "      WHEN pt < 15 THEN 14.99\n",
    "      WHEN pt > 250 THEN 250.1\n",
    "      ELSE pt\n",
    "    END - 0.9) / 2.35) * 2.35 + 2.075\n",
    "ORDER BY x NULLS LAST;"
   ]
  },
  {
   "cell_type": "markdown",
   "id": "b8e13e10",
   "metadata": {},
   "source": [
    "## Partition Pruning\n",
    "\n",
    "Since, Iceberg can maintain hive-style partitions transparently, it helps speed up queries by enabing paritition pruning. Here, we just show how it's done."
   ]
  },
  {
   "cell_type": "code",
   "execution_count": 215,
   "id": "6ecb0d32",
   "metadata": {},
   "outputs": [
    {
     "data": {
      "text/html": [
       "<table>\n",
       "    <thead>\n",
       "        <tr>\n",
       "            <th>sum(event)</th>\n",
       "        </tr>\n",
       "    </thead>\n",
       "    <tbody>\n",
       "        <tr>\n",
       "            <td>62362173</td>\n",
       "        </tr>\n",
       "    </tbody>\n",
       "</table>"
      ],
      "text/plain": [
       "+------------+\n",
       "| sum(event) |\n",
       "+------------+\n",
       "|   62362173 |\n",
       "+------------+"
      ]
     },
     "execution_count": 215,
     "metadata": {},
     "output_type": "execute_result"
    }
   ],
   "source": [
    "%%sql\n",
    "\n",
    "SELECT sum(event) FROM demo.iris_hep WHERE event=62362173;"
   ]
  },
  {
   "cell_type": "code",
   "execution_count": 216,
   "id": "70cc916e",
   "metadata": {},
   "outputs": [
    {
     "data": {
      "text/html": [
       "<table>\n",
       "    <thead>\n",
       "        <tr>\n",
       "            <th>event</th>\n",
       "        </tr>\n",
       "    </thead>\n",
       "    <tbody>\n",
       "    </tbody>\n",
       "</table>"
      ],
      "text/plain": [
       "+-------+\n",
       "| event |\n",
       "+-------+\n",
       "+-------+"
      ]
     },
     "execution_count": 216,
     "metadata": {},
     "output_type": "execute_result"
    }
   ],
   "source": [
    "%%sql\n",
    "\n",
    "SELECT event FROM demo.iris_hep WHERE event=62362174;"
   ]
  },
  {
   "cell_type": "markdown",
   "id": "446d785d",
   "metadata": {},
   "source": [
    "Spark and Iceberg setup is enough to perform data management on HEP data. No special systems such as Presto, BigQuery, or Athena is required."
   ]
  }
 ],
 "metadata": {
  "kernelspec": {
   "display_name": "Python 3 (ipykernel)",
   "language": "python",
   "name": "python3"
  },
  "language_info": {
   "codemirror_mode": {
    "name": "ipython",
    "version": 3
   },
   "file_extension": ".py",
   "mimetype": "text/x-python",
   "name": "python",
   "nbconvert_exporter": "python",
   "pygments_lexer": "ipython3",
   "version": "3.9.16"
  }
 },
 "nbformat": 4,
 "nbformat_minor": 5
}
