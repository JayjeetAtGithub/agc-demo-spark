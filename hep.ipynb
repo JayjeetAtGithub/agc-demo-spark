{
 "cells": [
  {
   "cell_type": "code",
   "execution_count": 6,
   "id": "d752c142-8813-4a8b-84de-c3854d6ee3c6",
   "metadata": {},
   "outputs": [],
   "source": [
    "import pyspark\n",
    "from pyspark import SparkContext\n",
    "from pyspark.sql import SparkSession"
   ]
  },
  {
   "cell_type": "code",
   "execution_count": 7,
   "id": "ac12fa02-0706-4537-83e9-c2f77b928086",
   "metadata": {},
   "outputs": [],
   "source": [
    "spark = SparkSession.builder.appName('iris-hep').enableHiveSupport().getOrCreate()"
   ]
  },
  {
   "cell_type": "code",
   "execution_count": 9,
   "id": "bbeb4d78-74ab-4660-b599-5bcf68e69a63",
   "metadata": {},
   "outputs": [],
   "source": [
    "df = spark.read.parquet(\"file.parquet\")"
   ]
  },
  {
   "cell_type": "code",
   "execution_count": 11,
   "id": "379820b2-c6a5-437f-9efe-cf8237b79bb9",
   "metadata": {},
   "outputs": [],
   "source": [
    "df.createOrReplaceTempView(\"hep_table_main_restructured\")"
   ]
  },
  {
   "cell_type": "code",
   "execution_count": 21,
   "id": "a6db1cbe-582c-4fa9-b5a0-dc839fff942c",
   "metadata": {},
   "outputs": [],
   "source": [
    "res_df = spark.sql(\"\"\"\n",
    "\n",
    "/* Generate the histogram */ WITH xyze_jets AS (SELECT event, TRANSFORM(JET, j -> CAST(STRUCT(j.btag, j.pt * COS(j.phi), j.pt * SIN(j.phi), j.pt * ((EXP(j.eta) - EXP(-j.eta)) / 2.0), SQRT(j.pt * COSH(j.eta) * j.pt * COSH(j.eta) + j.mass * j.mass)) AS STRUCT<btag: FLOAT, x: FLOAT, y: FLOAT, z: FLOAT, e: FLOAT>)) AS Jet FROM hep_table_main_restructured), tri_jets /* Compute jet triplets */ AS (SELECT event, m1, m2, m3 FROM xyze_jets LATERAL VIEW POSEXPLODE(Jet) AS idx1,m1 LATERAL VIEW POSEXPLODE(Jet) AS idx2,m2 LATERAL VIEW POSEXPLODE(Jet) AS idx3,m3 WHERE idx1 < idx2 AND idx2 < idx3), condensed_tri_jet /* Compute AddPxPyPzE3 and (partial) PxPyPzE2PtEtaPhiM for each TriJet system */ AS (SELECT event, m1, m2, m3, m1.x + m2.x + m3.x AS x, m1.y + m2.y + m3.y AS y, m1.z + m2.z + m3.z AS z, m1.e + m2.e + m3.e AS e, (m1.x + m2.x + m3.x) * (m1.x + m2.x + m3.x) AS x2, (m1.y + m2.y + m3.y) * (m1.y + m2.y + m3.y) AS y2, (m1.z + m2.z + m3.z) * (m1.z + m2.z + m3.z) AS z2, (m1.e + m2.e + m3.e) * (m1.e + m2.e + m3.e) AS e2 FROM tri_jets), singular_system /* Find the system with the lowest mass */ AS (SELECT event, MIN_BY(ARRAY_MAX(ARRAY(m1.btag, m2.btag, m3.btag)), ABS(172.5 - SQRT(e2 - x2 - y2 - z2))) AS btag FROM condensed_tri_jet GROUP BY event) SELECT CAST((CASE WHEN btag < 0 THEN -0.005 WHEN btag > 1 THEN 1.005 ELSE btag END - 0.005) / 0.01 AS LONG) * 0.01 + 0.005 AS x, COUNT(*) AS y FROM singular_system GROUP BY CAST((CASE WHEN btag < 0 THEN -0.005 WHEN btag > 1 THEN 1.005 ELSE btag END - 0.005) / 0.01 AS LONG) * 0.01 + 0.005 ORDER BY x NULLS LAST\n",
    "\"\"\")\n"
   ]
  },
  {
   "cell_type": "code",
   "execution_count": 22,
   "id": "47fa49c4-5438-44b8-88d7-df458d9a35c3",
   "metadata": {},
   "outputs": [
    {
     "data": {
      "text/html": [
       "<div>\n",
       "<style scoped>\n",
       "    .dataframe tbody tr th:only-of-type {\n",
       "        vertical-align: middle;\n",
       "    }\n",
       "\n",
       "    .dataframe tbody tr th {\n",
       "        vertical-align: top;\n",
       "    }\n",
       "\n",
       "    .dataframe thead th {\n",
       "        text-align: right;\n",
       "    }\n",
       "</style>\n",
       "<table border=\"1\" class=\"dataframe\">\n",
       "  <thead>\n",
       "    <tr style=\"text-align: right;\">\n",
       "      <th></th>\n",
       "      <th>x</th>\n",
       "      <th>y</th>\n",
       "    </tr>\n",
       "  </thead>\n",
       "  <tbody>\n",
       "    <tr>\n",
       "      <th>0</th>\n",
       "      <td>-0.005</td>\n",
       "      <td>23</td>\n",
       "    </tr>\n",
       "    <tr>\n",
       "      <th>1</th>\n",
       "      <td>0.015</td>\n",
       "      <td>3</td>\n",
       "    </tr>\n",
       "    <tr>\n",
       "      <th>2</th>\n",
       "      <td>0.025</td>\n",
       "      <td>1</td>\n",
       "    </tr>\n",
       "    <tr>\n",
       "      <th>3</th>\n",
       "      <td>0.035</td>\n",
       "      <td>2</td>\n",
       "    </tr>\n",
       "    <tr>\n",
       "      <th>4</th>\n",
       "      <td>0.065</td>\n",
       "      <td>3</td>\n",
       "    </tr>\n",
       "    <tr>\n",
       "      <th>...</th>\n",
       "      <td>...</td>\n",
       "      <td>...</td>\n",
       "    </tr>\n",
       "    <tr>\n",
       "      <th>75</th>\n",
       "      <td>0.955</td>\n",
       "      <td>12</td>\n",
       "    </tr>\n",
       "    <tr>\n",
       "      <th>76</th>\n",
       "      <td>0.965</td>\n",
       "      <td>10</td>\n",
       "    </tr>\n",
       "    <tr>\n",
       "      <th>77</th>\n",
       "      <td>0.975</td>\n",
       "      <td>13</td>\n",
       "    </tr>\n",
       "    <tr>\n",
       "      <th>78</th>\n",
       "      <td>0.985</td>\n",
       "      <td>6</td>\n",
       "    </tr>\n",
       "    <tr>\n",
       "      <th>79</th>\n",
       "      <td>0.995</td>\n",
       "      <td>29</td>\n",
       "    </tr>\n",
       "  </tbody>\n",
       "</table>\n",
       "<p>80 rows × 2 columns</p>\n",
       "</div>"
      ],
      "text/plain": [
       "         x   y\n",
       "0   -0.005  23\n",
       "1    0.015   3\n",
       "2    0.025   1\n",
       "3    0.035   2\n",
       "4    0.065   3\n",
       "..     ...  ..\n",
       "75   0.955  12\n",
       "76   0.965  10\n",
       "77   0.975  13\n",
       "78   0.985   6\n",
       "79   0.995  29\n",
       "\n",
       "[80 rows x 2 columns]"
      ]
     },
     "execution_count": 22,
     "metadata": {},
     "output_type": "execute_result"
    }
   ],
   "source": [
    "res_df.toPandas()"
   ]
  }
 ],
 "metadata": {
  "kernelspec": {
   "display_name": "Python 3 (ipykernel)",
   "language": "python",
   "name": "python3"
  },
  "language_info": {
   "codemirror_mode": {
    "name": "ipython",
    "version": 3
   },
   "file_extension": ".py",
   "mimetype": "text/x-python",
   "name": "python",
   "nbconvert_exporter": "python",
   "pygments_lexer": "ipython3",
   "version": "3.10.8"
  }
 },
 "nbformat": 4,
 "nbformat_minor": 5
}
